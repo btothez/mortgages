{
 "cells": [
  {
   "cell_type": "code",
   "execution_count": 2,
   "metadata": {},
   "outputs": [],
   "source": [
    "%matplotlib inline\n",
    "import pandas as pd\n",
    "import numpy as np\n",
    "import random\n",
    "import collections\n",
    "import time\n",
    "import pickle\n",
    "import matplotlib.pyplot as plt"
   ]
  },
  {
   "cell_type": "code",
   "execution_count": 3,
   "metadata": {},
   "outputs": [],
   "source": [
    "df = pd.read_csv(\"shuffled-full-set-hashed.csv\", header=None)"
   ]
  },
  {
   "cell_type": "code",
   "execution_count": 4,
   "metadata": {},
   "outputs": [
    {
     "data": {
      "text/html": [
       "<div>\n",
       "<style scoped>\n",
       "    .dataframe tbody tr th:only-of-type {\n",
       "        vertical-align: middle;\n",
       "    }\n",
       "\n",
       "    .dataframe tbody tr th {\n",
       "        vertical-align: top;\n",
       "    }\n",
       "\n",
       "    .dataframe thead th {\n",
       "        text-align: right;\n",
       "    }\n",
       "</style>\n",
       "<table border=\"1\" class=\"dataframe\">\n",
       "  <thead>\n",
       "    <tr style=\"text-align: right;\">\n",
       "      <th></th>\n",
       "      <th>0</th>\n",
       "      <th>1</th>\n",
       "    </tr>\n",
       "  </thead>\n",
       "  <tbody>\n",
       "    <tr>\n",
       "      <th>0</th>\n",
       "      <td>DELETION OF INTEREST</td>\n",
       "      <td>e04a09c87692 d6b72e591b91 5d066f0246f1 ed41171...</td>\n",
       "    </tr>\n",
       "    <tr>\n",
       "      <th>1</th>\n",
       "      <td>RETURNED CHECK</td>\n",
       "      <td>a3b334c6eefd be95012ebf2b 41d67080e078 ff1c26e...</td>\n",
       "    </tr>\n",
       "    <tr>\n",
       "      <th>2</th>\n",
       "      <td>BILL</td>\n",
       "      <td>586242498a88 9ccf259ca087 54709b24b45f 6bf9c0c...</td>\n",
       "    </tr>\n",
       "    <tr>\n",
       "      <th>3</th>\n",
       "      <td>BILL</td>\n",
       "      <td>cd50e861f48b 6ca2dd348663 d38820625542 f077614...</td>\n",
       "    </tr>\n",
       "    <tr>\n",
       "      <th>4</th>\n",
       "      <td>BILL</td>\n",
       "      <td>9db5536263d8 1c303d15eb65 3f89b4673455 b73e657...</td>\n",
       "    </tr>\n",
       "  </tbody>\n",
       "</table>\n",
       "</div>"
      ],
      "text/plain": [
       "                      0                                                  1\n",
       "0  DELETION OF INTEREST  e04a09c87692 d6b72e591b91 5d066f0246f1 ed41171...\n",
       "1        RETURNED CHECK  a3b334c6eefd be95012ebf2b 41d67080e078 ff1c26e...\n",
       "2                  BILL  586242498a88 9ccf259ca087 54709b24b45f 6bf9c0c...\n",
       "3                  BILL  cd50e861f48b 6ca2dd348663 d38820625542 f077614...\n",
       "4                  BILL  9db5536263d8 1c303d15eb65 3f89b4673455 b73e657..."
      ]
     },
     "execution_count": 4,
     "metadata": {},
     "output_type": "execute_result"
    }
   ],
   "source": [
    "df.head()"
   ]
  },
  {
   "cell_type": "code",
   "execution_count": 6,
   "metadata": {},
   "outputs": [
    {
     "data": {
      "text/plain": [
       "62204"
      ]
     },
     "execution_count": 6,
     "metadata": {},
     "output_type": "execute_result"
    }
   ],
   "source": [
    "len(df[0])"
   ]
  },
  {
   "cell_type": "code",
   "execution_count": 12,
   "metadata": {},
   "outputs": [],
   "source": [
    "cntr = collections.Counter(df[0])\n"
   ]
  },
  {
   "cell_type": "code",
   "execution_count": 15,
   "metadata": {},
   "outputs": [
    {
     "data": {
      "text/plain": [
       "[('BILL', 18968),\n",
       " ('POLICY CHANGE', 10627),\n",
       " ('CANCELLATION NOTICE', 9731),\n",
       " ('BINDER', 8973),\n",
       " ('DELETION OF INTEREST', 4826),\n",
       " ('REINSTATEMENT NOTICE', 4368),\n",
       " ('DECLARATION', 968),\n",
       " ('CHANGE ENDORSEMENT', 889),\n",
       " ('RETURNED CHECK', 749),\n",
       " ('EXPIRATION NOTICE', 734),\n",
       " ('NON-RENEWAL NOTICE', 624),\n",
       " ('BILL BINDER', 289),\n",
       " ('INTENT TO CANCEL NOTICE', 229),\n",
       " ('APPLICATION', 229)]"
      ]
     },
     "execution_count": 15,
     "metadata": {},
     "output_type": "execute_result"
    }
   ],
   "source": [
    "cntr.most_common()"
   ]
  },
  {
   "cell_type": "code",
   "execution_count": 17,
   "metadata": {},
   "outputs": [
    {
     "data": {
      "text/html": [
       "<div>\n",
       "<style scoped>\n",
       "    .dataframe tbody tr th:only-of-type {\n",
       "        vertical-align: middle;\n",
       "    }\n",
       "\n",
       "    .dataframe tbody tr th {\n",
       "        vertical-align: top;\n",
       "    }\n",
       "\n",
       "    .dataframe thead th {\n",
       "        text-align: right;\n",
       "    }\n",
       "</style>\n",
       "<table border=\"1\" class=\"dataframe\">\n",
       "  <thead>\n",
       "    <tr style=\"text-align: right;\">\n",
       "      <th></th>\n",
       "      <th>0</th>\n",
       "      <th>1</th>\n",
       "      <th>word_count</th>\n",
       "    </tr>\n",
       "  </thead>\n",
       "  <tbody>\n",
       "    <tr>\n",
       "      <th>0</th>\n",
       "      <td>DELETION OF INTEREST</td>\n",
       "      <td>e04a09c87692 d6b72e591b91 5d066f0246f1 ed41171...</td>\n",
       "      <td>465</td>\n",
       "    </tr>\n",
       "    <tr>\n",
       "      <th>1</th>\n",
       "      <td>RETURNED CHECK</td>\n",
       "      <td>a3b334c6eefd be95012ebf2b 41d67080e078 ff1c26e...</td>\n",
       "      <td>403</td>\n",
       "    </tr>\n",
       "    <tr>\n",
       "      <th>2</th>\n",
       "      <td>BILL</td>\n",
       "      <td>586242498a88 9ccf259ca087 54709b24b45f 6bf9c0c...</td>\n",
       "      <td>185</td>\n",
       "    </tr>\n",
       "    <tr>\n",
       "      <th>3</th>\n",
       "      <td>BILL</td>\n",
       "      <td>cd50e861f48b 6ca2dd348663 d38820625542 f077614...</td>\n",
       "      <td>337</td>\n",
       "    </tr>\n",
       "    <tr>\n",
       "      <th>4</th>\n",
       "      <td>BILL</td>\n",
       "      <td>9db5536263d8 1c303d15eb65 3f89b4673455 b73e657...</td>\n",
       "      <td>546</td>\n",
       "    </tr>\n",
       "  </tbody>\n",
       "</table>\n",
       "</div>"
      ],
      "text/plain": [
       "                      0                                                  1  \\\n",
       "0  DELETION OF INTEREST  e04a09c87692 d6b72e591b91 5d066f0246f1 ed41171...   \n",
       "1        RETURNED CHECK  a3b334c6eefd be95012ebf2b 41d67080e078 ff1c26e...   \n",
       "2                  BILL  586242498a88 9ccf259ca087 54709b24b45f 6bf9c0c...   \n",
       "3                  BILL  cd50e861f48b 6ca2dd348663 d38820625542 f077614...   \n",
       "4                  BILL  9db5536263d8 1c303d15eb65 3f89b4673455 b73e657...   \n",
       "\n",
       "   word_count  \n",
       "0         465  \n",
       "1         403  \n",
       "2         185  \n",
       "3         337  \n",
       "4         546  "
      ]
     },
     "execution_count": 17,
     "metadata": {},
     "output_type": "execute_result"
    }
   ],
   "source": [
    "def word_count(words):\n",
    "    return len(words.split(' ')) if type(words) == str else 0\n",
    "df['word_count'] = [word_count(x) for x in df[1]]\n",
    "df.head()"
   ]
  },
  {
   "cell_type": "code",
   "execution_count": 18,
   "metadata": {},
   "outputs": [
    {
     "data": {
      "text/plain": [
       "count    62204.000000\n",
       "mean       334.148479\n",
       "std        330.217525\n",
       "min          0.000000\n",
       "25%        148.000000\n",
       "50%        252.000000\n",
       "75%        402.000000\n",
       "max       9076.000000\n",
       "Name: word_count, dtype: float64"
      ]
     },
     "execution_count": 18,
     "metadata": {},
     "output_type": "execute_result"
    }
   ],
   "source": [
    "df.word_count.describe()"
   ]
  },
  {
   "cell_type": "code",
   "execution_count": 19,
   "metadata": {},
   "outputs": [
    {
     "data": {
      "text/plain": [
       "20785372"
      ]
     },
     "execution_count": 19,
     "metadata": {},
     "output_type": "execute_result"
    }
   ],
   "source": [
    "df.word_count.sum()"
   ]
  },
  {
   "cell_type": "code",
   "execution_count": 21,
   "metadata": {},
   "outputs": [],
   "source": [
    "def split_or_empty(words):\n",
    "    return words.split(' ') if type(words) == str else []\n",
    "word_lst = [split_or_empty(x) for x in df[1]]"
   ]
  },
  {
   "cell_type": "code",
   "execution_count": 23,
   "metadata": {},
   "outputs": [
    {
     "data": {
      "text/plain": [
       "1037934"
      ]
     },
     "execution_count": 23,
     "metadata": {},
     "output_type": "execute_result"
    }
   ],
   "source": [
    "all_wrds = [word for lst in word_lst for word in lst]\n",
    "set_wrds = set(all_wrds)\n",
    "len(set_wrds)"
   ]
  },
  {
   "cell_type": "code",
   "execution_count": 24,
   "metadata": {},
   "outputs": [
    {
     "data": {
      "text/plain": [
       "20785372"
      ]
     },
     "execution_count": 24,
     "metadata": {},
     "output_type": "execute_result"
    }
   ],
   "source": [
    "len(all_wrds)"
   ]
  },
  {
   "cell_type": "code",
   "execution_count": 25,
   "metadata": {},
   "outputs": [],
   "source": [
    "wrd_cntr = collections.Counter(all_wrds)"
   ]
  },
  {
   "cell_type": "code",
   "execution_count": 28,
   "metadata": {},
   "outputs": [
    {
     "data": {
      "text/plain": [
       "[('586242498a88', 346411),\n",
       " ('d38820625542', 306079),\n",
       " ('6ce6cc5a3203', 237302),\n",
       " ('b9699ce57810', 180756),\n",
       " ('21e314d3afcc', 176212),\n",
       " ('25c57acdf805', 157820),\n",
       " ('1015893e384a', 147030),\n",
       " ('133d46f7ed38', 130132),\n",
       " ('036087ac04f9', 127550),\n",
       " ('641356219cbc', 126011),\n",
       " ('54709b24b45f', 124257),\n",
       " ('6ca2dd348663', 118129),\n",
       " ('c337a85b8ef9', 115867),\n",
       " ('1b6d0614f2c7', 113160),\n",
       " ('6bf9c0cb01b4', 112468),\n",
       " ('0562c756a2f2', 107584),\n",
       " ('f95d0bea231b', 107535),\n",
       " ('f7ae6f8257da', 107123),\n",
       " ('6b304aabdcee', 105298),\n",
       " ('7d9e333a86da', 104240),\n",
       " ('b136f6349cf3', 101726),\n",
       " ('97b6014f9e50', 101480),\n",
       " ('eeb86a6a04e4', 100824),\n",
       " ('10e45001c2f2', 97320),\n",
       " ('422068f04236', 95909),\n",
       " ('b208ae1e8232', 94532),\n",
       " ('b73e657498f2', 89743),\n",
       " ('1068682ce752', 84663),\n",
       " ('6b343f522f78', 83312),\n",
       " ('8f75273e5510', 81715),\n",
       " ('6af770640118', 81456),\n",
       " ('9bc65adc033c', 78430),\n",
       " ('ce1f034abb5d', 75148),\n",
       " ('26f768da5068', 73672),\n",
       " ('04503bc22789', 73176),\n",
       " ('e943e5e5b779', 73050),\n",
       " ('5e99d31d8fa4', 66281),\n",
       " ('9cdf4a63deb0', 64842),\n",
       " ('98d0d51b397c', 64234),\n",
       " ('4357c81e10c1', 64082),\n",
       " ('de9738ee8b24', 59959),\n",
       " ('4e5019f629a9', 57660),\n",
       " ('93790ade6682', 57127),\n",
       " ('6a01047db3ab', 56010),\n",
       " ('a31962fbd5f3', 55939),\n",
       " ('f0666bdbc8a5', 55267),\n",
       " ('48d657cd9861', 54837),\n",
       " ('6365c4563bd1', 53108),\n",
       " ('5c02c2aaa67b', 52395),\n",
       " ('4ad52689d690', 50939),\n",
       " ('46c88d9303da', 50348),\n",
       " ('36e7aa72ffe1', 49564),\n",
       " ('fe3fe35491b4', 48289),\n",
       " ('5ee06767bc0f', 45619),\n",
       " ('557ec6c63cf9', 45351),\n",
       " ('6bff0c8c1185', 44229),\n",
       " ('1ab34730c1e0', 43130),\n",
       " ('cbfb3eb99bea', 42247),\n",
       " ('ba02159e05b1', 40354),\n",
       " ('6d1fb90988cf', 40131),\n",
       " ('cafaf222091d', 39461),\n",
       " ('eb51798a89e1', 39130),\n",
       " ('ed1e3242ee34', 38517),\n",
       " ('2bcce4e05d9d', 37844),\n",
       " ('da61efdd2b77', 37426),\n",
       " ('5948001254b3', 36992),\n",
       " ('d8535c18626a', 36158),\n",
       " ('b32153b8b30c', 35761),\n",
       " ('8b6c5bb157a9', 35623),\n",
       " ('fb2cd24a447a', 35613),\n",
       " ('a0c020166d79', 35531),\n",
       " ('2e85d01c5d75', 35288),\n",
       " ('b814d9d78802', 34971),\n",
       " ('eca16ee06b98', 34809),\n",
       " ('ea51fa83c91c', 34770),\n",
       " ('6d25574664d2', 34039),\n",
       " ('2ef7c27a5df4', 33591),\n",
       " ('041a934b1778', 33475),\n",
       " ('0c4ce226d9fe', 33156),\n",
       " ('b59e343416f7', 33053),\n",
       " ('ecee69844b4e', 32891),\n",
       " ('c9a53ea6e219', 32395),\n",
       " ('c33578d25a0d', 32173),\n",
       " ('e7e059c82399', 32169),\n",
       " ('fe081ae57a8b', 31799),\n",
       " ('2f2548bd374a', 31393),\n",
       " ('878460b4304e', 31300),\n",
       " ('798fe9915030', 30958),\n",
       " ('9b88c973ae02', 30039),\n",
       " ('f52671c3d5de', 29675),\n",
       " ('aa1ef5f5355f', 29523),\n",
       " ('2ea49cf89745', 29438),\n",
       " ('b61f1af56200', 29218),\n",
       " ('918d14133622', 29063),\n",
       " ('28bce73d3237', 29018),\n",
       " ('094453b4e4ae', 28956),\n",
       " ('b7ab56536ec4', 28887),\n",
       " ('360e8b28421c', 28866),\n",
       " ('957b5cf4e65e', 28809),\n",
       " ('9f11111004ec', 28799)]"
      ]
     },
     "execution_count": 28,
     "metadata": {},
     "output_type": "execute_result"
    }
   ],
   "source": [
    "wrd_cntr.most_common(100)"
   ]
  },
  {
   "cell_type": "code",
   "execution_count": 30,
   "metadata": {},
   "outputs": [],
   "source": [
    "common_words = wrd_cntr.most_common()"
   ]
  },
  {
   "cell_type": "code",
   "execution_count": 31,
   "metadata": {},
   "outputs": [
    {
     "data": {
      "text/plain": [
       "1037934"
      ]
     },
     "execution_count": 31,
     "metadata": {},
     "output_type": "execute_result"
    }
   ],
   "source": [
    "len(common_words)"
   ]
  },
  {
   "cell_type": "code",
   "execution_count": 33,
   "metadata": {},
   "outputs": [
    {
     "data": {
      "text/plain": [
       "[('586242498a88', 346411),\n",
       " ('d38820625542', 306079),\n",
       " ('6ce6cc5a3203', 237302),\n",
       " ('b9699ce57810', 180756),\n",
       " ('21e314d3afcc', 176212),\n",
       " ('25c57acdf805', 157820),\n",
       " ('1015893e384a', 147030),\n",
       " ('133d46f7ed38', 130132),\n",
       " ('036087ac04f9', 127550),\n",
       " ('641356219cbc', 126011)]"
      ]
     },
     "execution_count": 33,
     "metadata": {},
     "output_type": "execute_result"
    }
   ],
   "source": [
    "common_words[0:10]"
   ]
  },
  {
   "cell_type": "code",
   "execution_count": 34,
   "metadata": {},
   "outputs": [
    {
     "data": {
      "text/plain": [
       "[('bfeebb70e68b', 1),\n",
       " ('eddd4b76d152', 1),\n",
       " ('eb65661665dd', 1),\n",
       " ('dad2b9ced032', 1),\n",
       " ('7642338165b0', 1),\n",
       " ('8fabddb2a327', 1),\n",
       " ('c367a14411f7', 1),\n",
       " ('e4647d2dafc8', 1),\n",
       " ('d0e27fabe805', 1)]"
      ]
     },
     "execution_count": 34,
     "metadata": {},
     "output_type": "execute_result"
    }
   ],
   "source": [
    "common_words[-10:-1]"
   ]
  },
  {
   "cell_type": "code",
   "execution_count": 37,
   "metadata": {},
   "outputs": [],
   "source": [
    "freq_lst = [x[1] for x in common_words]"
   ]
  },
  {
   "cell_type": "code",
   "execution_count": 41,
   "metadata": {},
   "outputs": [],
   "source": [
    "freq_arr = np.array(freq_lst)\n"
   ]
  },
  {
   "cell_type": "code",
   "execution_count": 57,
   "metadata": {},
   "outputs": [
    {
     "data": {
      "text/plain": [
       "(20.025716471374867, 846230.6574440873, 919.9079613983604)"
      ]
     },
     "execution_count": 57,
     "metadata": {},
     "output_type": "execute_result"
    }
   ],
   "source": [
    "freq_arr.mean(), freq_arr.var(), freq_arr.std()"
   ]
  },
  {
   "cell_type": "code",
   "execution_count": 62,
   "metadata": {},
   "outputs": [],
   "source": [
    "vocab = [x[0] for x in common_words if x[1] > 5 and x[1] < 10000]"
   ]
  },
  {
   "cell_type": "code",
   "execution_count": 63,
   "metadata": {},
   "outputs": [
    {
     "data": {
      "text/plain": [
       "87998"
      ]
     },
     "execution_count": 63,
     "metadata": {},
     "output_type": "execute_result"
    }
   ],
   "source": [
    "len(vocab)"
   ]
  },
  {
   "cell_type": "code",
   "execution_count": 64,
   "metadata": {},
   "outputs": [],
   "source": [
    "vocab_set = set(vocab)"
   ]
  },
  {
   "cell_type": "code",
   "execution_count": 76,
   "metadata": {},
   "outputs": [],
   "source": [
    "def keep_vocab(words):\n",
    "    return set(split_or_empty(words)) & vocab_set\n",
    "df['words_in_vocab'] = [len(keep_vocab(x)) for x in df[1]]"
   ]
  },
  {
   "cell_type": "code",
   "execution_count": 79,
   "metadata": {},
   "outputs": [
    {
     "data": {
      "text/plain": [
       "count    62204.000000\n",
       "mean       101.385120\n",
       "std         86.443821\n",
       "min          0.000000\n",
       "25%         48.000000\n",
       "50%         77.000000\n",
       "75%        128.000000\n",
       "max       1610.000000\n",
       "Name: words_in_vocab, dtype: float64"
      ]
     },
     "execution_count": 79,
     "metadata": {},
     "output_type": "execute_result"
    }
   ],
   "source": [
    "df.words_in_vocab.describe()"
   ]
  },
  {
   "cell_type": "code",
   "execution_count": 81,
   "metadata": {},
   "outputs": [
    {
     "data": {
      "text/html": [
       "<div>\n",
       "<style scoped>\n",
       "    .dataframe tbody tr th:only-of-type {\n",
       "        vertical-align: middle;\n",
       "    }\n",
       "\n",
       "    .dataframe tbody tr th {\n",
       "        vertical-align: top;\n",
       "    }\n",
       "\n",
       "    .dataframe thead th {\n",
       "        text-align: right;\n",
       "    }\n",
       "</style>\n",
       "<table border=\"1\" class=\"dataframe\">\n",
       "  <thead>\n",
       "    <tr style=\"text-align: right;\">\n",
       "      <th></th>\n",
       "      <th>0</th>\n",
       "      <th>1</th>\n",
       "      <th>word_count</th>\n",
       "      <th>words_in_vocab</th>\n",
       "    </tr>\n",
       "  </thead>\n",
       "  <tbody>\n",
       "    <tr>\n",
       "      <th>0</th>\n",
       "      <td>DELETION OF INTEREST</td>\n",
       "      <td>e04a09c87692 d6b72e591b91 5d066f0246f1 ed41171...</td>\n",
       "      <td>465</td>\n",
       "      <td>139</td>\n",
       "    </tr>\n",
       "    <tr>\n",
       "      <th>1</th>\n",
       "      <td>RETURNED CHECK</td>\n",
       "      <td>a3b334c6eefd be95012ebf2b 41d67080e078 ff1c26e...</td>\n",
       "      <td>403</td>\n",
       "      <td>117</td>\n",
       "    </tr>\n",
       "    <tr>\n",
       "      <th>2</th>\n",
       "      <td>BILL</td>\n",
       "      <td>586242498a88 9ccf259ca087 54709b24b45f 6bf9c0c...</td>\n",
       "      <td>185</td>\n",
       "      <td>36</td>\n",
       "    </tr>\n",
       "    <tr>\n",
       "      <th>3</th>\n",
       "      <td>BILL</td>\n",
       "      <td>cd50e861f48b 6ca2dd348663 d38820625542 f077614...</td>\n",
       "      <td>337</td>\n",
       "      <td>130</td>\n",
       "    </tr>\n",
       "    <tr>\n",
       "      <th>4</th>\n",
       "      <td>BILL</td>\n",
       "      <td>9db5536263d8 1c303d15eb65 3f89b4673455 b73e657...</td>\n",
       "      <td>546</td>\n",
       "      <td>131</td>\n",
       "    </tr>\n",
       "    <tr>\n",
       "      <th>5</th>\n",
       "      <td>POLICY CHANGE</td>\n",
       "      <td>10e45001c2f2 6a01047db3ab 6a8e3499dab9 97b6014...</td>\n",
       "      <td>536</td>\n",
       "      <td>206</td>\n",
       "    </tr>\n",
       "    <tr>\n",
       "      <th>6</th>\n",
       "      <td>POLICY CHANGE</td>\n",
       "      <td>4e5019f629a9 54fb196d55ce 0cf4049f1c7c ef4ea27...</td>\n",
       "      <td>1059</td>\n",
       "      <td>279</td>\n",
       "    </tr>\n",
       "    <tr>\n",
       "      <th>7</th>\n",
       "      <td>BILL</td>\n",
       "      <td>ad4440ac97a5 8e93a2273a93 c913f5129fe2 bfb030c...</td>\n",
       "      <td>579</td>\n",
       "      <td>140</td>\n",
       "    </tr>\n",
       "    <tr>\n",
       "      <th>8</th>\n",
       "      <td>CANCELLATION NOTICE</td>\n",
       "      <td>25c57acdf805 b7a0f56f6ce8 cf4fc632eed2 67f9c02...</td>\n",
       "      <td>248</td>\n",
       "      <td>80</td>\n",
       "    </tr>\n",
       "    <tr>\n",
       "      <th>9</th>\n",
       "      <td>BILL</td>\n",
       "      <td>48d657cd9861 fee60001e67a 4ce4bfb42e22 de9738e...</td>\n",
       "      <td>574</td>\n",
       "      <td>101</td>\n",
       "    </tr>\n",
       "    <tr>\n",
       "      <th>10</th>\n",
       "      <td>BILL</td>\n",
       "      <td>de9738ee8b24 54709b24b45f 036087ac04f9 096c96e...</td>\n",
       "      <td>597</td>\n",
       "      <td>136</td>\n",
       "    </tr>\n",
       "    <tr>\n",
       "      <th>11</th>\n",
       "      <td>POLICY CHANGE</td>\n",
       "      <td>3d04e8a08335 2bcce4e05d9d 6bdb1352a45b 6d10c76...</td>\n",
       "      <td>189</td>\n",
       "      <td>69</td>\n",
       "    </tr>\n",
       "    <tr>\n",
       "      <th>12</th>\n",
       "      <td>CANCELLATION NOTICE</td>\n",
       "      <td>6ca2dd348663 d38820625542 9e0c01b8b857 236eeaf...</td>\n",
       "      <td>117</td>\n",
       "      <td>32</td>\n",
       "    </tr>\n",
       "    <tr>\n",
       "      <th>13</th>\n",
       "      <td>BILL</td>\n",
       "      <td>86f0841bdf32 234fbcaa2754 0665b8da9006 b9699ce...</td>\n",
       "      <td>357</td>\n",
       "      <td>89</td>\n",
       "    </tr>\n",
       "    <tr>\n",
       "      <th>14</th>\n",
       "      <td>POLICY CHANGE</td>\n",
       "      <td>2c319b46c1d1 a84e4745160d 1820171792ca 6ca2dd3...</td>\n",
       "      <td>271</td>\n",
       "      <td>77</td>\n",
       "    </tr>\n",
       "    <tr>\n",
       "      <th>15</th>\n",
       "      <td>DECLARATION</td>\n",
       "      <td>327880382e41 e28c9cc8c20c 6a01047db3ab d4e9339...</td>\n",
       "      <td>227</td>\n",
       "      <td>79</td>\n",
       "    </tr>\n",
       "    <tr>\n",
       "      <th>16</th>\n",
       "      <td>CANCELLATION NOTICE</td>\n",
       "      <td>a7c177a24cab 5c02c2aaa67b ec3406979928 b2f3168...</td>\n",
       "      <td>262</td>\n",
       "      <td>76</td>\n",
       "    </tr>\n",
       "    <tr>\n",
       "      <th>17</th>\n",
       "      <td>POLICY CHANGE</td>\n",
       "      <td>26f768da5068 861d23ea5740 6af770640118 6b304aa...</td>\n",
       "      <td>1859</td>\n",
       "      <td>286</td>\n",
       "    </tr>\n",
       "    <tr>\n",
       "      <th>18</th>\n",
       "      <td>CHANGE ENDORSEMENT</td>\n",
       "      <td>b61f1af56200 036087ac04f9 b136f6349cf3 d0a6ba7...</td>\n",
       "      <td>115</td>\n",
       "      <td>51</td>\n",
       "    </tr>\n",
       "    <tr>\n",
       "      <th>19</th>\n",
       "      <td>NON-RENEWAL NOTICE</td>\n",
       "      <td>fe64d3cdfe5b e464def41f5c 1971c0237f22 5862424...</td>\n",
       "      <td>95</td>\n",
       "      <td>28</td>\n",
       "    </tr>\n",
       "  </tbody>\n",
       "</table>\n",
       "</div>"
      ],
      "text/plain": [
       "                       0                                                  1  \\\n",
       "0   DELETION OF INTEREST  e04a09c87692 d6b72e591b91 5d066f0246f1 ed41171...   \n",
       "1         RETURNED CHECK  a3b334c6eefd be95012ebf2b 41d67080e078 ff1c26e...   \n",
       "2                   BILL  586242498a88 9ccf259ca087 54709b24b45f 6bf9c0c...   \n",
       "3                   BILL  cd50e861f48b 6ca2dd348663 d38820625542 f077614...   \n",
       "4                   BILL  9db5536263d8 1c303d15eb65 3f89b4673455 b73e657...   \n",
       "5          POLICY CHANGE  10e45001c2f2 6a01047db3ab 6a8e3499dab9 97b6014...   \n",
       "6          POLICY CHANGE  4e5019f629a9 54fb196d55ce 0cf4049f1c7c ef4ea27...   \n",
       "7                   BILL  ad4440ac97a5 8e93a2273a93 c913f5129fe2 bfb030c...   \n",
       "8    CANCELLATION NOTICE  25c57acdf805 b7a0f56f6ce8 cf4fc632eed2 67f9c02...   \n",
       "9                   BILL  48d657cd9861 fee60001e67a 4ce4bfb42e22 de9738e...   \n",
       "10                  BILL  de9738ee8b24 54709b24b45f 036087ac04f9 096c96e...   \n",
       "11         POLICY CHANGE  3d04e8a08335 2bcce4e05d9d 6bdb1352a45b 6d10c76...   \n",
       "12   CANCELLATION NOTICE  6ca2dd348663 d38820625542 9e0c01b8b857 236eeaf...   \n",
       "13                  BILL  86f0841bdf32 234fbcaa2754 0665b8da9006 b9699ce...   \n",
       "14         POLICY CHANGE  2c319b46c1d1 a84e4745160d 1820171792ca 6ca2dd3...   \n",
       "15           DECLARATION  327880382e41 e28c9cc8c20c 6a01047db3ab d4e9339...   \n",
       "16   CANCELLATION NOTICE  a7c177a24cab 5c02c2aaa67b ec3406979928 b2f3168...   \n",
       "17         POLICY CHANGE  26f768da5068 861d23ea5740 6af770640118 6b304aa...   \n",
       "18    CHANGE ENDORSEMENT  b61f1af56200 036087ac04f9 b136f6349cf3 d0a6ba7...   \n",
       "19    NON-RENEWAL NOTICE  fe64d3cdfe5b e464def41f5c 1971c0237f22 5862424...   \n",
       "\n",
       "    word_count  words_in_vocab  \n",
       "0          465             139  \n",
       "1          403             117  \n",
       "2          185              36  \n",
       "3          337             130  \n",
       "4          546             131  \n",
       "5          536             206  \n",
       "6         1059             279  \n",
       "7          579             140  \n",
       "8          248              80  \n",
       "9          574             101  \n",
       "10         597             136  \n",
       "11         189              69  \n",
       "12         117              32  \n",
       "13         357              89  \n",
       "14         271              77  \n",
       "15         227              79  \n",
       "16         262              76  \n",
       "17        1859             286  \n",
       "18         115              51  \n",
       "19          95              28  "
      ]
     },
     "execution_count": 81,
     "metadata": {},
     "output_type": "execute_result"
    }
   ],
   "source": [
    "df.head(20)"
   ]
  },
  {
   "cell_type": "code",
   "execution_count": 82,
   "metadata": {},
   "outputs": [],
   "source": [
    "df_nona = df.dropna()"
   ]
  },
  {
   "cell_type": "code",
   "execution_count": 94,
   "metadata": {},
   "outputs": [],
   "source": [
    "df['words_in_vocab'] = [' '.join(keep_vocab(x)) for x in df[1]]"
   ]
  },
  {
   "cell_type": "code",
   "execution_count": 95,
   "metadata": {},
   "outputs": [
    {
     "data": {
      "text/html": [
       "<div>\n",
       "<style scoped>\n",
       "    .dataframe tbody tr th:only-of-type {\n",
       "        vertical-align: middle;\n",
       "    }\n",
       "\n",
       "    .dataframe tbody tr th {\n",
       "        vertical-align: top;\n",
       "    }\n",
       "\n",
       "    .dataframe thead th {\n",
       "        text-align: right;\n",
       "    }\n",
       "</style>\n",
       "<table border=\"1\" class=\"dataframe\">\n",
       "  <thead>\n",
       "    <tr style=\"text-align: right;\">\n",
       "      <th></th>\n",
       "      <th>0</th>\n",
       "      <th>1</th>\n",
       "      <th>word_count</th>\n",
       "      <th>words_in_vocab</th>\n",
       "    </tr>\n",
       "  </thead>\n",
       "  <tbody>\n",
       "    <tr>\n",
       "      <th>0</th>\n",
       "      <td>DELETION OF INTEREST</td>\n",
       "      <td>e04a09c87692 d6b72e591b91 5d066f0246f1 ed41171...</td>\n",
       "      <td>465</td>\n",
       "      <td>78ef61730b15 8288c343e374 135307dba198 e8d2105...</td>\n",
       "    </tr>\n",
       "    <tr>\n",
       "      <th>1</th>\n",
       "      <td>RETURNED CHECK</td>\n",
       "      <td>a3b334c6eefd be95012ebf2b 41d67080e078 ff1c26e...</td>\n",
       "      <td>403</td>\n",
       "      <td>c2617a394fdd 56f047e1e190 607e30a9689e b68232b...</td>\n",
       "    </tr>\n",
       "    <tr>\n",
       "      <th>2</th>\n",
       "      <td>BILL</td>\n",
       "      <td>586242498a88 9ccf259ca087 54709b24b45f 6bf9c0c...</td>\n",
       "      <td>185</td>\n",
       "      <td>186c2a8b23eb 9287e6d15453 de150c7d4218 e0a34e1...</td>\n",
       "    </tr>\n",
       "    <tr>\n",
       "      <th>3</th>\n",
       "      <td>BILL</td>\n",
       "      <td>cd50e861f48b 6ca2dd348663 d38820625542 f077614...</td>\n",
       "      <td>337</td>\n",
       "      <td>29f6e5802d4f 034e2d7f187e 135307dba198 58b1c79...</td>\n",
       "    </tr>\n",
       "    <tr>\n",
       "      <th>4</th>\n",
       "      <td>BILL</td>\n",
       "      <td>9db5536263d8 1c303d15eb65 3f89b4673455 b73e657...</td>\n",
       "      <td>546</td>\n",
       "      <td>135307dba198 8d97c108e884 f1af2479a5ea 67dddf7...</td>\n",
       "    </tr>\n",
       "  </tbody>\n",
       "</table>\n",
       "</div>"
      ],
      "text/plain": [
       "                      0                                                  1  \\\n",
       "0  DELETION OF INTEREST  e04a09c87692 d6b72e591b91 5d066f0246f1 ed41171...   \n",
       "1        RETURNED CHECK  a3b334c6eefd be95012ebf2b 41d67080e078 ff1c26e...   \n",
       "2                  BILL  586242498a88 9ccf259ca087 54709b24b45f 6bf9c0c...   \n",
       "3                  BILL  cd50e861f48b 6ca2dd348663 d38820625542 f077614...   \n",
       "4                  BILL  9db5536263d8 1c303d15eb65 3f89b4673455 b73e657...   \n",
       "\n",
       "   word_count                                     words_in_vocab  \n",
       "0         465  78ef61730b15 8288c343e374 135307dba198 e8d2105...  \n",
       "1         403  c2617a394fdd 56f047e1e190 607e30a9689e b68232b...  \n",
       "2         185  186c2a8b23eb 9287e6d15453 de150c7d4218 e0a34e1...  \n",
       "3         337  29f6e5802d4f 034e2d7f187e 135307dba198 58b1c79...  \n",
       "4         546  135307dba198 8d97c108e884 f1af2479a5ea 67dddf7...  "
      ]
     },
     "execution_count": 95,
     "metadata": {},
     "output_type": "execute_result"
    }
   ],
   "source": [
    "df.head()"
   ]
  },
  {
   "cell_type": "code",
   "execution_count": 96,
   "metadata": {},
   "outputs": [],
   "source": [
    "from nltk.tokenize import word_tokenize\n",
    "from nltk import pos_tag\n",
    "from nltk.corpus import stopwords\n",
    "from nltk.stem import WordNetLemmatizer\n",
    "from sklearn.preprocessing import LabelEncoder\n",
    "from collections import defaultdict\n",
    "from nltk.corpus import wordnet as wn\n",
    "from sklearn.feature_extraction.text import TfidfVectorizer\n",
    "from sklearn import model_selection, naive_bayes, svm\n",
    "from sklearn.metrics import accuracy_score\n",
    "\n",
    "train_x, test_x, train_y, test_y = model_selection.train_test_split(df.words_in_vocab, df[0],test_size=0.2)"
   ]
  },
  {
   "cell_type": "code",
   "execution_count": 97,
   "metadata": {},
   "outputs": [],
   "source": [
    "np.random.seed(5020)"
   ]
  },
  {
   "cell_type": "code",
   "execution_count": 98,
   "metadata": {},
   "outputs": [],
   "source": [
    "encoder = LabelEncoder()\n",
    "enc_train_y = encoder.fit_transform(train_y)\n",
    "enc_test_y = encoder.fit_transform(test_y)"
   ]
  },
  {
   "cell_type": "code",
   "execution_count": 99,
   "metadata": {},
   "outputs": [
    {
     "data": {
      "text/plain": [
       "array([ 4,  4, 11, ...,  6, 11, 11])"
      ]
     },
     "execution_count": 99,
     "metadata": {},
     "output_type": "execute_result"
    }
   ],
   "source": [
    "enc_test_y"
   ]
  },
  {
   "cell_type": "code",
   "execution_count": 100,
   "metadata": {},
   "outputs": [
    {
     "data": {
      "text/plain": [
       "TfidfVectorizer(analyzer='word', binary=False, decode_error='strict',\n",
       "                dtype=<class 'numpy.float64'>, encoding='utf-8',\n",
       "                input='content', lowercase=True, max_df=1.0, max_features=None,\n",
       "                min_df=1, ngram_range=(1, 3), norm='l2', preprocessor=None,\n",
       "                smooth_idf=True, stop_words=None, strip_accents=None,\n",
       "                sublinear_tf=False, token_pattern='(?u)\\\\b\\\\w\\\\w+\\\\b',\n",
       "                tokenizer=None, use_idf=True, vocabulary=None)"
      ]
     },
     "execution_count": 100,
     "metadata": {},
     "output_type": "execute_result"
    }
   ],
   "source": [
    "tfidf_vect = TfidfVectorizer(ngram_range=(1,3))\n",
    "tfidf_vect.fit(df.words_in_vocab)"
   ]
  },
  {
   "cell_type": "code",
   "execution_count": 101,
   "metadata": {},
   "outputs": [],
   "source": [
    "train_x_tfidf = tfidf_vect.transform(train_x)\n",
    "test_x_tfidf = tfidf_vect.transform(test_x)"
   ]
  },
  {
   "cell_type": "code",
   "execution_count": 108,
   "metadata": {},
   "outputs": [
    {
     "data": {
      "text/plain": [
       "(12441, 6832870)"
      ]
     },
     "execution_count": 108,
     "metadata": {},
     "output_type": "execute_result"
    }
   ],
   "source": [
    "test_x_tfidf.shape"
   ]
  },
  {
   "cell_type": "code",
   "execution_count": 110,
   "metadata": {},
   "outputs": [
    {
     "name": "stdout",
     "output_type": "stream",
     "text": [
      "Naive Bayes Accuracy Score ->  65.9432521501487\n"
     ]
    }
   ],
   "source": [
    "# fit the training dataset on the NB classifier\n",
    "nb = naive_bayes.MultinomialNB()\n",
    "nb.fit(train_x_tfidf, train_y)\n",
    "\n",
    "# predict the labels on validation dataset\n",
    "predictions_nb = nb.predict(test_x_tfidf)\n",
    "\n",
    "# Use accuracy_score function to get the accuracy\n",
    "print(\"Naive Bayes Accuracy Score -> \",accuracy_score(predictions_nb, test_y)*100)"
   ]
  },
  {
   "cell_type": "code",
   "execution_count": 117,
   "metadata": {},
   "outputs": [],
   "source": [
    "vectorizer = TfidfVectorizer(max_df=0.5, max_features=10000,\n",
    "                             min_df=2, use_idf=True, ngram_range=(1,3))\n",
    "train_x, test_x, train_y, test_y = model_selection.train_test_split(df_nona[1], df_nona[0],test_size=0.2)"
   ]
  },
  {
   "cell_type": "code",
   "execution_count": 118,
   "metadata": {},
   "outputs": [],
   "source": [
    "encoder = LabelEncoder()\n",
    "enc_train_y = encoder.fit_transform(train_y)\n",
    "enc_test_y = encoder.fit_transform(test_y)"
   ]
  },
  {
   "cell_type": "code",
   "execution_count": 119,
   "metadata": {},
   "outputs": [
    {
     "data": {
      "text/plain": [
       "TfidfVectorizer(analyzer='word', binary=False, decode_error='strict',\n",
       "                dtype=<class 'numpy.float64'>, encoding='utf-8',\n",
       "                input='content', lowercase=True, max_df=0.5, max_features=10000,\n",
       "                min_df=2, ngram_range=(1, 3), norm='l2', preprocessor=None,\n",
       "                smooth_idf=True, stop_words=None, strip_accents=None,\n",
       "                sublinear_tf=False, token_pattern='(?u)\\\\b\\\\w\\\\w+\\\\b',\n",
       "                tokenizer=None, use_idf=True, vocabulary=None)"
      ]
     },
     "execution_count": 119,
     "metadata": {},
     "output_type": "execute_result"
    }
   ],
   "source": [
    "vectorizer.fit(df_nona[1])"
   ]
  },
  {
   "cell_type": "code",
   "execution_count": 120,
   "metadata": {},
   "outputs": [],
   "source": [
    "train_x_tfidf = vectorizer.transform(train_x)\n",
    "test_x_tfidf = vectorizer.transform(test_x)"
   ]
  },
  {
   "cell_type": "code",
   "execution_count": 122,
   "metadata": {},
   "outputs": [
    {
     "name": "stdout",
     "output_type": "stream",
     "text": [
      "Naive Bayes Accuracy Score ->  76.95463320463321\n"
     ]
    }
   ],
   "source": [
    "# fit the training dataset on the NB classifier\n",
    "nb = naive_bayes.MultinomialNB()\n",
    "nb.fit(train_x_tfidf, train_y)\n",
    "\n",
    "# predict the labels on validation dataset\n",
    "predictions_nb = nb.predict(test_x_tfidf)\n",
    "\n",
    "# Use accuracy_score function to get the accuracy\n",
    "print(\"Naive Bayes Accuracy Score -> \",accuracy_score(predictions_nb, test_y)*100)"
   ]
  },
  {
   "cell_type": "code",
   "execution_count": 123,
   "metadata": {},
   "outputs": [
    {
     "data": {
      "text/plain": [
       "(49727, 10000)"
      ]
     },
     "execution_count": 123,
     "metadata": {},
     "output_type": "execute_result"
    }
   ],
   "source": [
    "train_x_tfidf.shape"
   ]
  },
  {
   "cell_type": "code",
   "execution_count": 124,
   "metadata": {},
   "outputs": [],
   "source": [
    "from sklearn.decomposition import TruncatedSVD\n",
    "from sklearn.pipeline import make_pipeline\n",
    "from sklearn.preprocessing import Normalizer\n",
    "from sklearn.neighbors import KNeighborsClassifier"
   ]
  },
  {
   "cell_type": "code",
   "execution_count": 125,
   "metadata": {},
   "outputs": [
    {
     "name": "stdout",
     "output_type": "stream",
     "text": [
      "  Explained variance of the SVD step: 33%\n"
     ]
    }
   ],
   "source": [
    "svd = TruncatedSVD(100)\n",
    "lsa = make_pipeline(svd, Normalizer(copy=False))\n",
    "\n",
    "# Run SVD on the training data, then project the training data.\n",
    "train_x_lsa = lsa.fit_transform(train_x_tfidf)\n",
    "\n",
    "explained_variance = svd.explained_variance_ratio_.sum()\n",
    "print(\"  Explained variance of the SVD step: {}%\".format(int(explained_variance * 100)))\n",
    "\n",
    "\n",
    "test_x_lsa = lsa.transform(test_x_tfidf)\n"
   ]
  },
  {
   "cell_type": "code",
   "execution_count": 131,
   "metadata": {},
   "outputs": [
    {
     "data": {
      "text/plain": [
       "(12432, 100)"
      ]
     },
     "execution_count": 131,
     "metadata": {},
     "output_type": "execute_result"
    }
   ],
   "source": [
    "test_x_lsa.shape"
   ]
  },
  {
   "cell_type": "code",
   "execution_count": 130,
   "metadata": {},
   "outputs": [],
   "source": [
    "num_cats = len(encoder.classes_)"
   ]
  },
  {
   "cell_type": "code",
   "execution_count": 134,
   "metadata": {},
   "outputs": [],
   "source": [
    "\n",
    "# Build a k-NN classifier. Use k = 5 (majority wins), the cosine distance, \n",
    "# and brute-force calculation of distances.\n",
    "knn_lsa = KNeighborsClassifier(n_neighbors=num_cats, algorithm='brute', metric='cosine')\n",
    "knn_lsa.fit(train_x_lsa, enc_train_y)\n",
    "\n",
    "# Classify the test vectors.\n",
    "p = knn_lsa.predict(test_x_lsa)\n"
   ]
  },
  {
   "cell_type": "code",
   "execution_count": 136,
   "metadata": {},
   "outputs": [
    {
     "data": {
      "text/plain": [
       "(12432, 100)"
      ]
     },
     "execution_count": 136,
     "metadata": {},
     "output_type": "execute_result"
    }
   ],
   "source": [
    "test_x_lsa.shape"
   ]
  },
  {
   "cell_type": "code",
   "execution_count": 138,
   "metadata": {},
   "outputs": [
    {
     "name": "stdout",
     "output_type": "stream",
     "text": [
      "  (10203 / 12432) correct - 82.07%\n"
     ]
    }
   ],
   "source": [
    "# Measure accuracy\n",
    "numRight = 0;\n",
    "for i in range(0,len(p)):\n",
    "    if p[i] == enc_test_y[i]:\n",
    "        numRight += 1\n",
    "\n",
    "print(\"  (%d / %d) correct - %.2f%%\" % (numRight, len(enc_test_y), float(numRight) / float(len(enc_test_y)) * 100.0))\n"
   ]
  },
  {
   "cell_type": "code",
   "execution_count": 139,
   "metadata": {},
   "outputs": [
    {
     "name": "stdout",
     "output_type": "stream",
     "text": [
      "10203\n"
     ]
    }
   ],
   "source": [
    "print(numRight)"
   ]
  },
  {
   "cell_type": "code",
   "execution_count": null,
   "metadata": {},
   "outputs": [],
   "source": [
    "pickle.dump"
   ]
  }
 ],
 "metadata": {
  "kernelspec": {
   "display_name": "Python 3",
   "language": "python",
   "name": "python3"
  },
  "language_info": {
   "codemirror_mode": {
    "name": "ipython",
    "version": 3
   },
   "file_extension": ".py",
   "mimetype": "text/x-python",
   "name": "python",
   "nbconvert_exporter": "python",
   "pygments_lexer": "ipython3",
   "version": "3.6.5"
  }
 },
 "nbformat": 4,
 "nbformat_minor": 2
}
