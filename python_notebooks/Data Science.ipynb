{
 "cells": [
  {
   "cell_type": "code",
   "execution_count": 1,
   "metadata": {},
   "outputs": [],
   "source": [
    "%matplotlib inline\n",
    "import pandas as pd\n",
    "import numpy as np\n",
    "import random\n",
    "import collections\n",
    "import time\n",
    "import pickle\n",
    "import matplotlib.pyplot as plt"
   ]
  },
  {
   "cell_type": "code",
   "execution_count": 2,
   "metadata": {},
   "outputs": [],
   "source": [
    "df = pd.read_csv(\"shuffled-full-set-hashed.csv\", header=None)"
   ]
  },
  {
   "cell_type": "code",
   "execution_count": 3,
   "metadata": {},
   "outputs": [
    {
     "data": {
      "text/html": [
       "<div>\n",
       "<style scoped>\n",
       "    .dataframe tbody tr th:only-of-type {\n",
       "        vertical-align: middle;\n",
       "    }\n",
       "\n",
       "    .dataframe tbody tr th {\n",
       "        vertical-align: top;\n",
       "    }\n",
       "\n",
       "    .dataframe thead th {\n",
       "        text-align: right;\n",
       "    }\n",
       "</style>\n",
       "<table border=\"1\" class=\"dataframe\">\n",
       "  <thead>\n",
       "    <tr style=\"text-align: right;\">\n",
       "      <th></th>\n",
       "      <th>0</th>\n",
       "      <th>1</th>\n",
       "    </tr>\n",
       "  </thead>\n",
       "  <tbody>\n",
       "    <tr>\n",
       "      <th>0</th>\n",
       "      <td>DELETION OF INTEREST</td>\n",
       "      <td>e04a09c87692 d6b72e591b91 5d066f0246f1 ed41171...</td>\n",
       "    </tr>\n",
       "    <tr>\n",
       "      <th>1</th>\n",
       "      <td>RETURNED CHECK</td>\n",
       "      <td>a3b334c6eefd be95012ebf2b 41d67080e078 ff1c26e...</td>\n",
       "    </tr>\n",
       "    <tr>\n",
       "      <th>2</th>\n",
       "      <td>BILL</td>\n",
       "      <td>586242498a88 9ccf259ca087 54709b24b45f 6bf9c0c...</td>\n",
       "    </tr>\n",
       "    <tr>\n",
       "      <th>3</th>\n",
       "      <td>BILL</td>\n",
       "      <td>cd50e861f48b 6ca2dd348663 d38820625542 f077614...</td>\n",
       "    </tr>\n",
       "    <tr>\n",
       "      <th>4</th>\n",
       "      <td>BILL</td>\n",
       "      <td>9db5536263d8 1c303d15eb65 3f89b4673455 b73e657...</td>\n",
       "    </tr>\n",
       "  </tbody>\n",
       "</table>\n",
       "</div>"
      ],
      "text/plain": [
       "                      0                                                  1\n",
       "0  DELETION OF INTEREST  e04a09c87692 d6b72e591b91 5d066f0246f1 ed41171...\n",
       "1        RETURNED CHECK  a3b334c6eefd be95012ebf2b 41d67080e078 ff1c26e...\n",
       "2                  BILL  586242498a88 9ccf259ca087 54709b24b45f 6bf9c0c...\n",
       "3                  BILL  cd50e861f48b 6ca2dd348663 d38820625542 f077614...\n",
       "4                  BILL  9db5536263d8 1c303d15eb65 3f89b4673455 b73e657..."
      ]
     },
     "execution_count": 3,
     "metadata": {},
     "output_type": "execute_result"
    }
   ],
   "source": [
    "df.head()"
   ]
  },
  {
   "cell_type": "code",
   "execution_count": 4,
   "metadata": {},
   "outputs": [
    {
     "data": {
      "text/plain": [
       "62204"
      ]
     },
     "execution_count": 4,
     "metadata": {},
     "output_type": "execute_result"
    }
   ],
   "source": [
    "len(df[0])"
   ]
  },
  {
   "cell_type": "code",
   "execution_count": 5,
   "metadata": {},
   "outputs": [],
   "source": [
    "cntr = collections.Counter(df[0])\n"
   ]
  },
  {
   "cell_type": "code",
   "execution_count": 6,
   "metadata": {},
   "outputs": [
    {
     "data": {
      "text/plain": [
       "[('BILL', 18968),\n",
       " ('POLICY CHANGE', 10627),\n",
       " ('CANCELLATION NOTICE', 9731),\n",
       " ('BINDER', 8973),\n",
       " ('DELETION OF INTEREST', 4826),\n",
       " ('REINSTATEMENT NOTICE', 4368),\n",
       " ('DECLARATION', 968),\n",
       " ('CHANGE ENDORSEMENT', 889),\n",
       " ('RETURNED CHECK', 749),\n",
       " ('EXPIRATION NOTICE', 734),\n",
       " ('NON-RENEWAL NOTICE', 624),\n",
       " ('BILL BINDER', 289),\n",
       " ('INTENT TO CANCEL NOTICE', 229),\n",
       " ('APPLICATION', 229)]"
      ]
     },
     "execution_count": 6,
     "metadata": {},
     "output_type": "execute_result"
    }
   ],
   "source": [
    "cntr.most_common()"
   ]
  },
  {
   "cell_type": "code",
   "execution_count": 7,
   "metadata": {},
   "outputs": [
    {
     "data": {
      "text/html": [
       "<div>\n",
       "<style scoped>\n",
       "    .dataframe tbody tr th:only-of-type {\n",
       "        vertical-align: middle;\n",
       "    }\n",
       "\n",
       "    .dataframe tbody tr th {\n",
       "        vertical-align: top;\n",
       "    }\n",
       "\n",
       "    .dataframe thead th {\n",
       "        text-align: right;\n",
       "    }\n",
       "</style>\n",
       "<table border=\"1\" class=\"dataframe\">\n",
       "  <thead>\n",
       "    <tr style=\"text-align: right;\">\n",
       "      <th></th>\n",
       "      <th>0</th>\n",
       "      <th>1</th>\n",
       "      <th>word_count</th>\n",
       "    </tr>\n",
       "  </thead>\n",
       "  <tbody>\n",
       "    <tr>\n",
       "      <th>0</th>\n",
       "      <td>DELETION OF INTEREST</td>\n",
       "      <td>e04a09c87692 d6b72e591b91 5d066f0246f1 ed41171...</td>\n",
       "      <td>465</td>\n",
       "    </tr>\n",
       "    <tr>\n",
       "      <th>1</th>\n",
       "      <td>RETURNED CHECK</td>\n",
       "      <td>a3b334c6eefd be95012ebf2b 41d67080e078 ff1c26e...</td>\n",
       "      <td>403</td>\n",
       "    </tr>\n",
       "    <tr>\n",
       "      <th>2</th>\n",
       "      <td>BILL</td>\n",
       "      <td>586242498a88 9ccf259ca087 54709b24b45f 6bf9c0c...</td>\n",
       "      <td>185</td>\n",
       "    </tr>\n",
       "    <tr>\n",
       "      <th>3</th>\n",
       "      <td>BILL</td>\n",
       "      <td>cd50e861f48b 6ca2dd348663 d38820625542 f077614...</td>\n",
       "      <td>337</td>\n",
       "    </tr>\n",
       "    <tr>\n",
       "      <th>4</th>\n",
       "      <td>BILL</td>\n",
       "      <td>9db5536263d8 1c303d15eb65 3f89b4673455 b73e657...</td>\n",
       "      <td>546</td>\n",
       "    </tr>\n",
       "  </tbody>\n",
       "</table>\n",
       "</div>"
      ],
      "text/plain": [
       "                      0                                                  1  \\\n",
       "0  DELETION OF INTEREST  e04a09c87692 d6b72e591b91 5d066f0246f1 ed41171...   \n",
       "1        RETURNED CHECK  a3b334c6eefd be95012ebf2b 41d67080e078 ff1c26e...   \n",
       "2                  BILL  586242498a88 9ccf259ca087 54709b24b45f 6bf9c0c...   \n",
       "3                  BILL  cd50e861f48b 6ca2dd348663 d38820625542 f077614...   \n",
       "4                  BILL  9db5536263d8 1c303d15eb65 3f89b4673455 b73e657...   \n",
       "\n",
       "   word_count  \n",
       "0         465  \n",
       "1         403  \n",
       "2         185  \n",
       "3         337  \n",
       "4         546  "
      ]
     },
     "execution_count": 7,
     "metadata": {},
     "output_type": "execute_result"
    }
   ],
   "source": [
    "def word_count(words):\n",
    "    return len(words.split(' ')) if type(words) == str else 0\n",
    "df['word_count'] = [word_count(x) for x in df[1]]\n",
    "df.head()"
   ]
  },
  {
   "cell_type": "code",
   "execution_count": 8,
   "metadata": {},
   "outputs": [
    {
     "data": {
      "text/plain": [
       "count    62204.000000\n",
       "mean       334.148479\n",
       "std        330.217525\n",
       "min          0.000000\n",
       "25%        148.000000\n",
       "50%        252.000000\n",
       "75%        402.000000\n",
       "max       9076.000000\n",
       "Name: word_count, dtype: float64"
      ]
     },
     "execution_count": 8,
     "metadata": {},
     "output_type": "execute_result"
    }
   ],
   "source": [
    "df.word_count.describe()"
   ]
  },
  {
   "cell_type": "code",
   "execution_count": 9,
   "metadata": {},
   "outputs": [
    {
     "data": {
      "text/plain": [
       "20785372"
      ]
     },
     "execution_count": 9,
     "metadata": {},
     "output_type": "execute_result"
    }
   ],
   "source": [
    "df.word_count.sum()"
   ]
  },
  {
   "cell_type": "code",
   "execution_count": 10,
   "metadata": {},
   "outputs": [],
   "source": [
    "def split_or_empty(words):\n",
    "    return words.split(' ') if type(words) == str else []\n",
    "word_lst = [split_or_empty(x) for x in df[1]]"
   ]
  },
  {
   "cell_type": "code",
   "execution_count": 11,
   "metadata": {},
   "outputs": [
    {
     "data": {
      "text/plain": [
       "1037934"
      ]
     },
     "execution_count": 11,
     "metadata": {},
     "output_type": "execute_result"
    }
   ],
   "source": [
    "all_wrds = [word for lst in word_lst for word in lst]\n",
    "set_wrds = set(all_wrds)\n",
    "len(set_wrds)"
   ]
  },
  {
   "cell_type": "code",
   "execution_count": 12,
   "metadata": {},
   "outputs": [
    {
     "data": {
      "text/plain": [
       "20785372"
      ]
     },
     "execution_count": 12,
     "metadata": {},
     "output_type": "execute_result"
    }
   ],
   "source": [
    "len(all_wrds)"
   ]
  },
  {
   "cell_type": "code",
   "execution_count": 13,
   "metadata": {},
   "outputs": [],
   "source": [
    "wrd_cntr = collections.Counter(all_wrds)"
   ]
  },
  {
   "cell_type": "code",
   "execution_count": 14,
   "metadata": {},
   "outputs": [
    {
     "data": {
      "text/plain": [
       "[('586242498a88', 346411),\n",
       " ('d38820625542', 306079),\n",
       " ('6ce6cc5a3203', 237302),\n",
       " ('b9699ce57810', 180756),\n",
       " ('21e314d3afcc', 176212),\n",
       " ('25c57acdf805', 157820),\n",
       " ('1015893e384a', 147030),\n",
       " ('133d46f7ed38', 130132),\n",
       " ('036087ac04f9', 127550),\n",
       " ('641356219cbc', 126011),\n",
       " ('54709b24b45f', 124257),\n",
       " ('6ca2dd348663', 118129),\n",
       " ('c337a85b8ef9', 115867),\n",
       " ('1b6d0614f2c7', 113160),\n",
       " ('6bf9c0cb01b4', 112468),\n",
       " ('0562c756a2f2', 107584),\n",
       " ('f95d0bea231b', 107535),\n",
       " ('f7ae6f8257da', 107123),\n",
       " ('6b304aabdcee', 105298),\n",
       " ('7d9e333a86da', 104240),\n",
       " ('b136f6349cf3', 101726),\n",
       " ('97b6014f9e50', 101480),\n",
       " ('eeb86a6a04e4', 100824),\n",
       " ('10e45001c2f2', 97320),\n",
       " ('422068f04236', 95909),\n",
       " ('b208ae1e8232', 94532),\n",
       " ('b73e657498f2', 89743),\n",
       " ('1068682ce752', 84663),\n",
       " ('6b343f522f78', 83312),\n",
       " ('8f75273e5510', 81715),\n",
       " ('6af770640118', 81456),\n",
       " ('9bc65adc033c', 78430),\n",
       " ('ce1f034abb5d', 75148),\n",
       " ('26f768da5068', 73672),\n",
       " ('04503bc22789', 73176),\n",
       " ('e943e5e5b779', 73050),\n",
       " ('5e99d31d8fa4', 66281),\n",
       " ('9cdf4a63deb0', 64842),\n",
       " ('98d0d51b397c', 64234),\n",
       " ('4357c81e10c1', 64082),\n",
       " ('de9738ee8b24', 59959),\n",
       " ('4e5019f629a9', 57660),\n",
       " ('93790ade6682', 57127),\n",
       " ('6a01047db3ab', 56010),\n",
       " ('a31962fbd5f3', 55939),\n",
       " ('f0666bdbc8a5', 55267),\n",
       " ('48d657cd9861', 54837),\n",
       " ('6365c4563bd1', 53108),\n",
       " ('5c02c2aaa67b', 52395),\n",
       " ('4ad52689d690', 50939),\n",
       " ('46c88d9303da', 50348),\n",
       " ('36e7aa72ffe1', 49564),\n",
       " ('fe3fe35491b4', 48289),\n",
       " ('5ee06767bc0f', 45619),\n",
       " ('557ec6c63cf9', 45351),\n",
       " ('6bff0c8c1185', 44229),\n",
       " ('1ab34730c1e0', 43130),\n",
       " ('cbfb3eb99bea', 42247),\n",
       " ('ba02159e05b1', 40354),\n",
       " ('6d1fb90988cf', 40131),\n",
       " ('cafaf222091d', 39461),\n",
       " ('eb51798a89e1', 39130),\n",
       " ('ed1e3242ee34', 38517),\n",
       " ('2bcce4e05d9d', 37844),\n",
       " ('da61efdd2b77', 37426),\n",
       " ('5948001254b3', 36992),\n",
       " ('d8535c18626a', 36158),\n",
       " ('b32153b8b30c', 35761),\n",
       " ('8b6c5bb157a9', 35623),\n",
       " ('fb2cd24a447a', 35613),\n",
       " ('a0c020166d79', 35531),\n",
       " ('2e85d01c5d75', 35288),\n",
       " ('b814d9d78802', 34971),\n",
       " ('eca16ee06b98', 34809),\n",
       " ('ea51fa83c91c', 34770),\n",
       " ('6d25574664d2', 34039),\n",
       " ('2ef7c27a5df4', 33591),\n",
       " ('041a934b1778', 33475),\n",
       " ('0c4ce226d9fe', 33156),\n",
       " ('b59e343416f7', 33053),\n",
       " ('ecee69844b4e', 32891),\n",
       " ('c9a53ea6e219', 32395),\n",
       " ('c33578d25a0d', 32173),\n",
       " ('e7e059c82399', 32169),\n",
       " ('fe081ae57a8b', 31799),\n",
       " ('2f2548bd374a', 31393),\n",
       " ('878460b4304e', 31300),\n",
       " ('798fe9915030', 30958),\n",
       " ('9b88c973ae02', 30039),\n",
       " ('f52671c3d5de', 29675),\n",
       " ('aa1ef5f5355f', 29523),\n",
       " ('2ea49cf89745', 29438),\n",
       " ('b61f1af56200', 29218),\n",
       " ('918d14133622', 29063),\n",
       " ('28bce73d3237', 29018),\n",
       " ('094453b4e4ae', 28956),\n",
       " ('b7ab56536ec4', 28887),\n",
       " ('360e8b28421c', 28866),\n",
       " ('957b5cf4e65e', 28809),\n",
       " ('9f11111004ec', 28799)]"
      ]
     },
     "execution_count": 14,
     "metadata": {},
     "output_type": "execute_result"
    }
   ],
   "source": [
    "wrd_cntr.most_common(100)"
   ]
  },
  {
   "cell_type": "code",
   "execution_count": 15,
   "metadata": {},
   "outputs": [],
   "source": [
    "common_words = wrd_cntr.most_common()"
   ]
  },
  {
   "cell_type": "code",
   "execution_count": 16,
   "metadata": {},
   "outputs": [
    {
     "data": {
      "text/plain": [
       "1037934"
      ]
     },
     "execution_count": 16,
     "metadata": {},
     "output_type": "execute_result"
    }
   ],
   "source": [
    "len(common_words)"
   ]
  },
  {
   "cell_type": "code",
   "execution_count": 17,
   "metadata": {},
   "outputs": [
    {
     "data": {
      "text/plain": [
       "[('586242498a88', 346411),\n",
       " ('d38820625542', 306079),\n",
       " ('6ce6cc5a3203', 237302),\n",
       " ('b9699ce57810', 180756),\n",
       " ('21e314d3afcc', 176212),\n",
       " ('25c57acdf805', 157820),\n",
       " ('1015893e384a', 147030),\n",
       " ('133d46f7ed38', 130132),\n",
       " ('036087ac04f9', 127550),\n",
       " ('641356219cbc', 126011)]"
      ]
     },
     "execution_count": 17,
     "metadata": {},
     "output_type": "execute_result"
    }
   ],
   "source": [
    "common_words[0:10]"
   ]
  },
  {
   "cell_type": "code",
   "execution_count": 18,
   "metadata": {},
   "outputs": [
    {
     "data": {
      "text/plain": [
       "[('bfeebb70e68b', 1),\n",
       " ('eddd4b76d152', 1),\n",
       " ('eb65661665dd', 1),\n",
       " ('dad2b9ced032', 1),\n",
       " ('7642338165b0', 1),\n",
       " ('8fabddb2a327', 1),\n",
       " ('c367a14411f7', 1),\n",
       " ('e4647d2dafc8', 1),\n",
       " ('d0e27fabe805', 1)]"
      ]
     },
     "execution_count": 18,
     "metadata": {},
     "output_type": "execute_result"
    }
   ],
   "source": [
    "common_words[-10:-1]"
   ]
  },
  {
   "cell_type": "code",
   "execution_count": 19,
   "metadata": {},
   "outputs": [],
   "source": [
    "freq_lst = [x[1] for x in common_words]"
   ]
  },
  {
   "cell_type": "code",
   "execution_count": 20,
   "metadata": {},
   "outputs": [],
   "source": [
    "freq_arr = np.array(freq_lst)\n"
   ]
  },
  {
   "cell_type": "code",
   "execution_count": 21,
   "metadata": {},
   "outputs": [
    {
     "data": {
      "text/plain": [
       "(20.025716471374867, 846230.6574440873, 919.9079613983604)"
      ]
     },
     "execution_count": 21,
     "metadata": {},
     "output_type": "execute_result"
    }
   ],
   "source": [
    "freq_arr.mean(), freq_arr.var(), freq_arr.std()"
   ]
  },
  {
   "cell_type": "code",
   "execution_count": 22,
   "metadata": {},
   "outputs": [],
   "source": [
    "vocab = [x[0] for x in common_words if x[1] > 5 and x[1] < 10000]"
   ]
  },
  {
   "cell_type": "code",
   "execution_count": 23,
   "metadata": {},
   "outputs": [
    {
     "data": {
      "text/plain": [
       "87998"
      ]
     },
     "execution_count": 23,
     "metadata": {},
     "output_type": "execute_result"
    }
   ],
   "source": [
    "len(vocab)"
   ]
  },
  {
   "cell_type": "code",
   "execution_count": 24,
   "metadata": {},
   "outputs": [],
   "source": [
    "vocab_set = set(vocab)"
   ]
  },
  {
   "cell_type": "code",
   "execution_count": 25,
   "metadata": {},
   "outputs": [],
   "source": [
    "def keep_vocab(words):\n",
    "    return set(split_or_empty(words)) & vocab_set\n",
    "df['words_in_vocab'] = [len(keep_vocab(x)) for x in df[1]]"
   ]
  },
  {
   "cell_type": "code",
   "execution_count": 26,
   "metadata": {},
   "outputs": [
    {
     "data": {
      "text/plain": [
       "count    62204.000000\n",
       "mean       101.385120\n",
       "std         86.443821\n",
       "min          0.000000\n",
       "25%         48.000000\n",
       "50%         77.000000\n",
       "75%        128.000000\n",
       "max       1610.000000\n",
       "Name: words_in_vocab, dtype: float64"
      ]
     },
     "execution_count": 26,
     "metadata": {},
     "output_type": "execute_result"
    }
   ],
   "source": [
    "df.words_in_vocab.describe()"
   ]
  },
  {
   "cell_type": "code",
   "execution_count": 27,
   "metadata": {},
   "outputs": [
    {
     "data": {
      "text/html": [
       "<div>\n",
       "<style scoped>\n",
       "    .dataframe tbody tr th:only-of-type {\n",
       "        vertical-align: middle;\n",
       "    }\n",
       "\n",
       "    .dataframe tbody tr th {\n",
       "        vertical-align: top;\n",
       "    }\n",
       "\n",
       "    .dataframe thead th {\n",
       "        text-align: right;\n",
       "    }\n",
       "</style>\n",
       "<table border=\"1\" class=\"dataframe\">\n",
       "  <thead>\n",
       "    <tr style=\"text-align: right;\">\n",
       "      <th></th>\n",
       "      <th>0</th>\n",
       "      <th>1</th>\n",
       "      <th>word_count</th>\n",
       "      <th>words_in_vocab</th>\n",
       "    </tr>\n",
       "  </thead>\n",
       "  <tbody>\n",
       "    <tr>\n",
       "      <th>0</th>\n",
       "      <td>DELETION OF INTEREST</td>\n",
       "      <td>e04a09c87692 d6b72e591b91 5d066f0246f1 ed41171...</td>\n",
       "      <td>465</td>\n",
       "      <td>139</td>\n",
       "    </tr>\n",
       "    <tr>\n",
       "      <th>1</th>\n",
       "      <td>RETURNED CHECK</td>\n",
       "      <td>a3b334c6eefd be95012ebf2b 41d67080e078 ff1c26e...</td>\n",
       "      <td>403</td>\n",
       "      <td>117</td>\n",
       "    </tr>\n",
       "    <tr>\n",
       "      <th>2</th>\n",
       "      <td>BILL</td>\n",
       "      <td>586242498a88 9ccf259ca087 54709b24b45f 6bf9c0c...</td>\n",
       "      <td>185</td>\n",
       "      <td>36</td>\n",
       "    </tr>\n",
       "    <tr>\n",
       "      <th>3</th>\n",
       "      <td>BILL</td>\n",
       "      <td>cd50e861f48b 6ca2dd348663 d38820625542 f077614...</td>\n",
       "      <td>337</td>\n",
       "      <td>130</td>\n",
       "    </tr>\n",
       "    <tr>\n",
       "      <th>4</th>\n",
       "      <td>BILL</td>\n",
       "      <td>9db5536263d8 1c303d15eb65 3f89b4673455 b73e657...</td>\n",
       "      <td>546</td>\n",
       "      <td>131</td>\n",
       "    </tr>\n",
       "    <tr>\n",
       "      <th>5</th>\n",
       "      <td>POLICY CHANGE</td>\n",
       "      <td>10e45001c2f2 6a01047db3ab 6a8e3499dab9 97b6014...</td>\n",
       "      <td>536</td>\n",
       "      <td>206</td>\n",
       "    </tr>\n",
       "    <tr>\n",
       "      <th>6</th>\n",
       "      <td>POLICY CHANGE</td>\n",
       "      <td>4e5019f629a9 54fb196d55ce 0cf4049f1c7c ef4ea27...</td>\n",
       "      <td>1059</td>\n",
       "      <td>279</td>\n",
       "    </tr>\n",
       "    <tr>\n",
       "      <th>7</th>\n",
       "      <td>BILL</td>\n",
       "      <td>ad4440ac97a5 8e93a2273a93 c913f5129fe2 bfb030c...</td>\n",
       "      <td>579</td>\n",
       "      <td>140</td>\n",
       "    </tr>\n",
       "    <tr>\n",
       "      <th>8</th>\n",
       "      <td>CANCELLATION NOTICE</td>\n",
       "      <td>25c57acdf805 b7a0f56f6ce8 cf4fc632eed2 67f9c02...</td>\n",
       "      <td>248</td>\n",
       "      <td>80</td>\n",
       "    </tr>\n",
       "    <tr>\n",
       "      <th>9</th>\n",
       "      <td>BILL</td>\n",
       "      <td>48d657cd9861 fee60001e67a 4ce4bfb42e22 de9738e...</td>\n",
       "      <td>574</td>\n",
       "      <td>101</td>\n",
       "    </tr>\n",
       "    <tr>\n",
       "      <th>10</th>\n",
       "      <td>BILL</td>\n",
       "      <td>de9738ee8b24 54709b24b45f 036087ac04f9 096c96e...</td>\n",
       "      <td>597</td>\n",
       "      <td>136</td>\n",
       "    </tr>\n",
       "    <tr>\n",
       "      <th>11</th>\n",
       "      <td>POLICY CHANGE</td>\n",
       "      <td>3d04e8a08335 2bcce4e05d9d 6bdb1352a45b 6d10c76...</td>\n",
       "      <td>189</td>\n",
       "      <td>69</td>\n",
       "    </tr>\n",
       "    <tr>\n",
       "      <th>12</th>\n",
       "      <td>CANCELLATION NOTICE</td>\n",
       "      <td>6ca2dd348663 d38820625542 9e0c01b8b857 236eeaf...</td>\n",
       "      <td>117</td>\n",
       "      <td>32</td>\n",
       "    </tr>\n",
       "    <tr>\n",
       "      <th>13</th>\n",
       "      <td>BILL</td>\n",
       "      <td>86f0841bdf32 234fbcaa2754 0665b8da9006 b9699ce...</td>\n",
       "      <td>357</td>\n",
       "      <td>89</td>\n",
       "    </tr>\n",
       "    <tr>\n",
       "      <th>14</th>\n",
       "      <td>POLICY CHANGE</td>\n",
       "      <td>2c319b46c1d1 a84e4745160d 1820171792ca 6ca2dd3...</td>\n",
       "      <td>271</td>\n",
       "      <td>77</td>\n",
       "    </tr>\n",
       "    <tr>\n",
       "      <th>15</th>\n",
       "      <td>DECLARATION</td>\n",
       "      <td>327880382e41 e28c9cc8c20c 6a01047db3ab d4e9339...</td>\n",
       "      <td>227</td>\n",
       "      <td>79</td>\n",
       "    </tr>\n",
       "    <tr>\n",
       "      <th>16</th>\n",
       "      <td>CANCELLATION NOTICE</td>\n",
       "      <td>a7c177a24cab 5c02c2aaa67b ec3406979928 b2f3168...</td>\n",
       "      <td>262</td>\n",
       "      <td>76</td>\n",
       "    </tr>\n",
       "    <tr>\n",
       "      <th>17</th>\n",
       "      <td>POLICY CHANGE</td>\n",
       "      <td>26f768da5068 861d23ea5740 6af770640118 6b304aa...</td>\n",
       "      <td>1859</td>\n",
       "      <td>286</td>\n",
       "    </tr>\n",
       "    <tr>\n",
       "      <th>18</th>\n",
       "      <td>CHANGE ENDORSEMENT</td>\n",
       "      <td>b61f1af56200 036087ac04f9 b136f6349cf3 d0a6ba7...</td>\n",
       "      <td>115</td>\n",
       "      <td>51</td>\n",
       "    </tr>\n",
       "    <tr>\n",
       "      <th>19</th>\n",
       "      <td>NON-RENEWAL NOTICE</td>\n",
       "      <td>fe64d3cdfe5b e464def41f5c 1971c0237f22 5862424...</td>\n",
       "      <td>95</td>\n",
       "      <td>28</td>\n",
       "    </tr>\n",
       "  </tbody>\n",
       "</table>\n",
       "</div>"
      ],
      "text/plain": [
       "                       0                                                  1  \\\n",
       "0   DELETION OF INTEREST  e04a09c87692 d6b72e591b91 5d066f0246f1 ed41171...   \n",
       "1         RETURNED CHECK  a3b334c6eefd be95012ebf2b 41d67080e078 ff1c26e...   \n",
       "2                   BILL  586242498a88 9ccf259ca087 54709b24b45f 6bf9c0c...   \n",
       "3                   BILL  cd50e861f48b 6ca2dd348663 d38820625542 f077614...   \n",
       "4                   BILL  9db5536263d8 1c303d15eb65 3f89b4673455 b73e657...   \n",
       "5          POLICY CHANGE  10e45001c2f2 6a01047db3ab 6a8e3499dab9 97b6014...   \n",
       "6          POLICY CHANGE  4e5019f629a9 54fb196d55ce 0cf4049f1c7c ef4ea27...   \n",
       "7                   BILL  ad4440ac97a5 8e93a2273a93 c913f5129fe2 bfb030c...   \n",
       "8    CANCELLATION NOTICE  25c57acdf805 b7a0f56f6ce8 cf4fc632eed2 67f9c02...   \n",
       "9                   BILL  48d657cd9861 fee60001e67a 4ce4bfb42e22 de9738e...   \n",
       "10                  BILL  de9738ee8b24 54709b24b45f 036087ac04f9 096c96e...   \n",
       "11         POLICY CHANGE  3d04e8a08335 2bcce4e05d9d 6bdb1352a45b 6d10c76...   \n",
       "12   CANCELLATION NOTICE  6ca2dd348663 d38820625542 9e0c01b8b857 236eeaf...   \n",
       "13                  BILL  86f0841bdf32 234fbcaa2754 0665b8da9006 b9699ce...   \n",
       "14         POLICY CHANGE  2c319b46c1d1 a84e4745160d 1820171792ca 6ca2dd3...   \n",
       "15           DECLARATION  327880382e41 e28c9cc8c20c 6a01047db3ab d4e9339...   \n",
       "16   CANCELLATION NOTICE  a7c177a24cab 5c02c2aaa67b ec3406979928 b2f3168...   \n",
       "17         POLICY CHANGE  26f768da5068 861d23ea5740 6af770640118 6b304aa...   \n",
       "18    CHANGE ENDORSEMENT  b61f1af56200 036087ac04f9 b136f6349cf3 d0a6ba7...   \n",
       "19    NON-RENEWAL NOTICE  fe64d3cdfe5b e464def41f5c 1971c0237f22 5862424...   \n",
       "\n",
       "    word_count  words_in_vocab  \n",
       "0          465             139  \n",
       "1          403             117  \n",
       "2          185              36  \n",
       "3          337             130  \n",
       "4          546             131  \n",
       "5          536             206  \n",
       "6         1059             279  \n",
       "7          579             140  \n",
       "8          248              80  \n",
       "9          574             101  \n",
       "10         597             136  \n",
       "11         189              69  \n",
       "12         117              32  \n",
       "13         357              89  \n",
       "14         271              77  \n",
       "15         227              79  \n",
       "16         262              76  \n",
       "17        1859             286  \n",
       "18         115              51  \n",
       "19          95              28  "
      ]
     },
     "execution_count": 27,
     "metadata": {},
     "output_type": "execute_result"
    }
   ],
   "source": [
    "df.head(20)"
   ]
  },
  {
   "cell_type": "code",
   "execution_count": 28,
   "metadata": {},
   "outputs": [],
   "source": [
    "df_nona = df.dropna()"
   ]
  },
  {
   "cell_type": "code",
   "execution_count": 29,
   "metadata": {},
   "outputs": [],
   "source": [
    "df['words_in_vocab'] = [' '.join(keep_vocab(x)) for x in df[1]]"
   ]
  },
  {
   "cell_type": "code",
   "execution_count": 30,
   "metadata": {},
   "outputs": [
    {
     "data": {
      "text/html": [
       "<div>\n",
       "<style scoped>\n",
       "    .dataframe tbody tr th:only-of-type {\n",
       "        vertical-align: middle;\n",
       "    }\n",
       "\n",
       "    .dataframe tbody tr th {\n",
       "        vertical-align: top;\n",
       "    }\n",
       "\n",
       "    .dataframe thead th {\n",
       "        text-align: right;\n",
       "    }\n",
       "</style>\n",
       "<table border=\"1\" class=\"dataframe\">\n",
       "  <thead>\n",
       "    <tr style=\"text-align: right;\">\n",
       "      <th></th>\n",
       "      <th>0</th>\n",
       "      <th>1</th>\n",
       "      <th>word_count</th>\n",
       "      <th>words_in_vocab</th>\n",
       "    </tr>\n",
       "  </thead>\n",
       "  <tbody>\n",
       "    <tr>\n",
       "      <th>0</th>\n",
       "      <td>DELETION OF INTEREST</td>\n",
       "      <td>e04a09c87692 d6b72e591b91 5d066f0246f1 ed41171...</td>\n",
       "      <td>465</td>\n",
       "      <td>6a95ce91efbd 5079f87b7bd6 8bd6e6f02cbc 02db3d3...</td>\n",
       "    </tr>\n",
       "    <tr>\n",
       "      <th>1</th>\n",
       "      <td>RETURNED CHECK</td>\n",
       "      <td>a3b334c6eefd be95012ebf2b 41d67080e078 ff1c26e...</td>\n",
       "      <td>403</td>\n",
       "      <td>6a95ce91efbd a845e8e2dbe6 c9b917564931 29727c0...</td>\n",
       "    </tr>\n",
       "    <tr>\n",
       "      <th>2</th>\n",
       "      <td>BILL</td>\n",
       "      <td>586242498a88 9ccf259ca087 54709b24b45f 6bf9c0c...</td>\n",
       "      <td>185</td>\n",
       "      <td>b6670dfb5ae7 f1424da4e7d6 f9e92c0357ef 6753b57...</td>\n",
       "    </tr>\n",
       "    <tr>\n",
       "      <th>3</th>\n",
       "      <td>BILL</td>\n",
       "      <td>cd50e861f48b 6ca2dd348663 d38820625542 f077614...</td>\n",
       "      <td>337</td>\n",
       "      <td>62a63953f966 034e2d7f187e 1932d6ce3497 9997460...</td>\n",
       "    </tr>\n",
       "    <tr>\n",
       "      <th>4</th>\n",
       "      <td>BILL</td>\n",
       "      <td>9db5536263d8 1c303d15eb65 3f89b4673455 b73e657...</td>\n",
       "      <td>546</td>\n",
       "      <td>1667fb32fe88 7223404c09a9 6850f6b078c2 06e7c45...</td>\n",
       "    </tr>\n",
       "  </tbody>\n",
       "</table>\n",
       "</div>"
      ],
      "text/plain": [
       "                      0                                                  1  \\\n",
       "0  DELETION OF INTEREST  e04a09c87692 d6b72e591b91 5d066f0246f1 ed41171...   \n",
       "1        RETURNED CHECK  a3b334c6eefd be95012ebf2b 41d67080e078 ff1c26e...   \n",
       "2                  BILL  586242498a88 9ccf259ca087 54709b24b45f 6bf9c0c...   \n",
       "3                  BILL  cd50e861f48b 6ca2dd348663 d38820625542 f077614...   \n",
       "4                  BILL  9db5536263d8 1c303d15eb65 3f89b4673455 b73e657...   \n",
       "\n",
       "   word_count                                     words_in_vocab  \n",
       "0         465  6a95ce91efbd 5079f87b7bd6 8bd6e6f02cbc 02db3d3...  \n",
       "1         403  6a95ce91efbd a845e8e2dbe6 c9b917564931 29727c0...  \n",
       "2         185  b6670dfb5ae7 f1424da4e7d6 f9e92c0357ef 6753b57...  \n",
       "3         337  62a63953f966 034e2d7f187e 1932d6ce3497 9997460...  \n",
       "4         546  1667fb32fe88 7223404c09a9 6850f6b078c2 06e7c45...  "
      ]
     },
     "execution_count": 30,
     "metadata": {},
     "output_type": "execute_result"
    }
   ],
   "source": [
    "df.head()"
   ]
  },
  {
   "cell_type": "code",
   "execution_count": 31,
   "metadata": {},
   "outputs": [],
   "source": [
    "from nltk.tokenize import word_tokenize\n",
    "from nltk import pos_tag\n",
    "from nltk.corpus import stopwords\n",
    "from nltk.stem import WordNetLemmatizer\n",
    "from sklearn.preprocessing import LabelEncoder\n",
    "from collections import defaultdict\n",
    "from nltk.corpus import wordnet as wn\n",
    "from sklearn.feature_extraction.text import TfidfVectorizer\n",
    "from sklearn import model_selection, naive_bayes, svm\n",
    "from sklearn.metrics import accuracy_score\n",
    "\n",
    "train_x, test_x, train_y, test_y = model_selection.train_test_split(df.words_in_vocab, df[0],test_size=0.2)"
   ]
  },
  {
   "cell_type": "code",
   "execution_count": 34,
   "metadata": {},
   "outputs": [
    {
     "data": {
      "text/plain": [
       "21506    3795316a6382 786e27a256b1 cc7a3f31ec54 0b091e7...\n",
       "30547    180604d8508e d5a8566dd908 7b39431c9757 737f89b...\n",
       "52071    a08cb9b6831b e8194541d049 883833046794 dc76b66...\n",
       "17991    d8bea9a1e58a 246ee0c4577b ea16f4416773 62a6395...\n",
       "50500    5fd3455b15ba b9925442c9c9 d565161aef03 2416c9a...\n",
       "Name: words_in_vocab, dtype: object"
      ]
     },
     "execution_count": 34,
     "metadata": {},
     "output_type": "execute_result"
    }
   ],
   "source": [
    "test_x.head()"
   ]
  },
  {
   "cell_type": "code",
   "execution_count": 35,
   "metadata": {},
   "outputs": [
    {
     "data": {
      "text/plain": [
       "21506     CANCELLATION NOTICE\n",
       "30547    REINSTATEMENT NOTICE\n",
       "52071                    BILL\n",
       "17991                    BILL\n",
       "50500    DELETION OF INTEREST\n",
       "Name: 0, dtype: object"
      ]
     },
     "execution_count": 35,
     "metadata": {},
     "output_type": "execute_result"
    }
   ],
   "source": [
    "test_y.head()"
   ]
  },
  {
   "cell_type": "code",
   "execution_count": 36,
   "metadata": {},
   "outputs": [],
   "source": [
    "np.random.seed(5020)"
   ]
  },
  {
   "cell_type": "code",
   "execution_count": 37,
   "metadata": {},
   "outputs": [],
   "source": [
    "encoder = LabelEncoder()\n",
    "enc_train_y = encoder.fit_transform(train_y)\n",
    "enc_test_y = encoder.fit_transform(test_y)"
   ]
  },
  {
   "cell_type": "code",
   "execution_count": 38,
   "metadata": {},
   "outputs": [
    {
     "data": {
      "text/plain": [
       "array([ 4, 12,  1, ..., 11,  1,  3])"
      ]
     },
     "execution_count": 38,
     "metadata": {},
     "output_type": "execute_result"
    }
   ],
   "source": [
    "enc_test_y"
   ]
  },
  {
   "cell_type": "code",
   "execution_count": 39,
   "metadata": {},
   "outputs": [
    {
     "ename": "KeyboardInterrupt",
     "evalue": "",
     "output_type": "error",
     "traceback": [
      "\u001b[0;31m---------------------------------------------------------------------------\u001b[0m",
      "\u001b[0;31mKeyboardInterrupt\u001b[0m                         Traceback (most recent call last)",
      "\u001b[0;32m<ipython-input-39-7ad1748664cb>\u001b[0m in \u001b[0;36m<module>\u001b[0;34m\u001b[0m\n\u001b[1;32m      1\u001b[0m \u001b[0mtfidf_vect\u001b[0m \u001b[0;34m=\u001b[0m \u001b[0mTfidfVectorizer\u001b[0m\u001b[0;34m(\u001b[0m\u001b[0mngram_range\u001b[0m\u001b[0;34m=\u001b[0m\u001b[0;34m(\u001b[0m\u001b[0;36m1\u001b[0m\u001b[0;34m,\u001b[0m\u001b[0;36m3\u001b[0m\u001b[0;34m)\u001b[0m\u001b[0;34m)\u001b[0m\u001b[0;34m\u001b[0m\u001b[0m\n\u001b[0;32m----> 2\u001b[0;31m \u001b[0mtfidf_vect\u001b[0m\u001b[0;34m.\u001b[0m\u001b[0mfit\u001b[0m\u001b[0;34m(\u001b[0m\u001b[0mdf\u001b[0m\u001b[0;34m.\u001b[0m\u001b[0mwords_in_vocab\u001b[0m\u001b[0;34m)\u001b[0m\u001b[0;34m\u001b[0m\u001b[0m\n\u001b[0m",
      "\u001b[0;32m~/.virtualenvs/datascience/lib/python3.6/site-packages/sklearn/feature_extraction/text.py\u001b[0m in \u001b[0;36mfit\u001b[0;34m(self, raw_documents, y)\u001b[0m\n\u001b[1;32m   1629\u001b[0m         \"\"\"\n\u001b[1;32m   1630\u001b[0m         \u001b[0mself\u001b[0m\u001b[0;34m.\u001b[0m\u001b[0m_check_params\u001b[0m\u001b[0;34m(\u001b[0m\u001b[0;34m)\u001b[0m\u001b[0;34m\u001b[0m\u001b[0m\n\u001b[0;32m-> 1631\u001b[0;31m         \u001b[0mX\u001b[0m \u001b[0;34m=\u001b[0m \u001b[0msuper\u001b[0m\u001b[0;34m(\u001b[0m\u001b[0;34m)\u001b[0m\u001b[0;34m.\u001b[0m\u001b[0mfit_transform\u001b[0m\u001b[0;34m(\u001b[0m\u001b[0mraw_documents\u001b[0m\u001b[0;34m)\u001b[0m\u001b[0;34m\u001b[0m\u001b[0m\n\u001b[0m\u001b[1;32m   1632\u001b[0m         \u001b[0mself\u001b[0m\u001b[0;34m.\u001b[0m\u001b[0m_tfidf\u001b[0m\u001b[0;34m.\u001b[0m\u001b[0mfit\u001b[0m\u001b[0;34m(\u001b[0m\u001b[0mX\u001b[0m\u001b[0;34m)\u001b[0m\u001b[0;34m\u001b[0m\u001b[0m\n\u001b[1;32m   1633\u001b[0m         \u001b[0;32mreturn\u001b[0m \u001b[0mself\u001b[0m\u001b[0;34m\u001b[0m\u001b[0m\n",
      "\u001b[0;32m~/.virtualenvs/datascience/lib/python3.6/site-packages/sklearn/feature_extraction/text.py\u001b[0m in \u001b[0;36mfit_transform\u001b[0;34m(self, raw_documents, y)\u001b[0m\n\u001b[1;32m   1056\u001b[0m \u001b[0;34m\u001b[0m\u001b[0m\n\u001b[1;32m   1057\u001b[0m         vocabulary, X = self._count_vocab(raw_documents,\n\u001b[0;32m-> 1058\u001b[0;31m                                           self.fixed_vocabulary_)\n\u001b[0m\u001b[1;32m   1059\u001b[0m \u001b[0;34m\u001b[0m\u001b[0m\n\u001b[1;32m   1060\u001b[0m         \u001b[0;32mif\u001b[0m \u001b[0mself\u001b[0m\u001b[0;34m.\u001b[0m\u001b[0mbinary\u001b[0m\u001b[0;34m:\u001b[0m\u001b[0;34m\u001b[0m\u001b[0m\n",
      "\u001b[0;32m~/.virtualenvs/datascience/lib/python3.6/site-packages/sklearn/feature_extraction/text.py\u001b[0m in \u001b[0;36m_count_vocab\u001b[0;34m(self, raw_documents, fixed_vocab)\u001b[0m\n\u001b[1;32m    985\u001b[0m         \u001b[0;32mif\u001b[0m \u001b[0;32mnot\u001b[0m \u001b[0mfixed_vocab\u001b[0m\u001b[0;34m:\u001b[0m\u001b[0;34m\u001b[0m\u001b[0m\n\u001b[1;32m    986\u001b[0m             \u001b[0;31m# disable defaultdict behaviour\u001b[0m\u001b[0;34m\u001b[0m\u001b[0;34m\u001b[0m\u001b[0m\n\u001b[0;32m--> 987\u001b[0;31m             \u001b[0mvocabulary\u001b[0m \u001b[0;34m=\u001b[0m \u001b[0mdict\u001b[0m\u001b[0;34m(\u001b[0m\u001b[0mvocabulary\u001b[0m\u001b[0;34m)\u001b[0m\u001b[0;34m\u001b[0m\u001b[0m\n\u001b[0m\u001b[1;32m    988\u001b[0m             \u001b[0;32mif\u001b[0m \u001b[0;32mnot\u001b[0m \u001b[0mvocabulary\u001b[0m\u001b[0;34m:\u001b[0m\u001b[0;34m\u001b[0m\u001b[0m\n\u001b[1;32m    989\u001b[0m                 raise ValueError(\"empty vocabulary; perhaps the documents only\"\n",
      "\u001b[0;31mKeyboardInterrupt\u001b[0m: "
     ]
    }
   ],
   "source": [
    "tfidf_vect = TfidfVectorizer(ngram_range=(1,3))\n",
    "tfidf_vect.fit(df.words_in_vocab)"
   ]
  },
  {
   "cell_type": "code",
   "execution_count": 101,
   "metadata": {},
   "outputs": [],
   "source": [
    "train_x_tfidf = tfidf_vect.transform(train_x)\n",
    "test_x_tfidf = tfidf_vect.transform(test_x)"
   ]
  },
  {
   "cell_type": "code",
   "execution_count": 108,
   "metadata": {},
   "outputs": [
    {
     "data": {
      "text/plain": [
       "(12441, 6832870)"
      ]
     },
     "execution_count": 108,
     "metadata": {},
     "output_type": "execute_result"
    }
   ],
   "source": [
    "test_x_tfidf.shape"
   ]
  },
  {
   "cell_type": "code",
   "execution_count": 110,
   "metadata": {},
   "outputs": [
    {
     "name": "stdout",
     "output_type": "stream",
     "text": [
      "Naive Bayes Accuracy Score ->  65.9432521501487\n"
     ]
    }
   ],
   "source": [
    "# fit the training dataset on the NB classifier\n",
    "nb = naive_bayes.MultinomialNB()\n",
    "nb.fit(train_x_tfidf, train_y)\n",
    "\n",
    "# predict the labels on validation dataset\n",
    "predictions_nb = nb.predict(test_x_tfidf)\n",
    "\n",
    "# Use accuracy_score function to get the accuracy\n",
    "print(\"Naive Bayes Accuracy Score -> \",accuracy_score(predictions_nb, test_y)*100)"
   ]
  },
  {
   "cell_type": "code",
   "execution_count": 40,
   "metadata": {},
   "outputs": [],
   "source": [
    "vectorizer = TfidfVectorizer(max_df=0.5, max_features=10000,\n",
    "                             min_df=2, use_idf=True, ngram_range=(1,3))\n",
    "train_x, test_x, train_y, test_y = model_selection.train_test_split(df_nona[1], df_nona[0],test_size=0.2)"
   ]
  },
  {
   "cell_type": "code",
   "execution_count": 41,
   "metadata": {},
   "outputs": [],
   "source": [
    "encoder = LabelEncoder()\n",
    "enc_train_y = encoder.fit_transform(train_y)\n",
    "enc_test_y = encoder.fit_transform(test_y)"
   ]
  },
  {
   "cell_type": "code",
   "execution_count": 42,
   "metadata": {},
   "outputs": [
    {
     "data": {
      "text/plain": [
       "TfidfVectorizer(analyzer='word', binary=False, decode_error='strict',\n",
       "                dtype=<class 'numpy.float64'>, encoding='utf-8',\n",
       "                input='content', lowercase=True, max_df=0.5, max_features=10000,\n",
       "                min_df=2, ngram_range=(1, 3), norm='l2', preprocessor=None,\n",
       "                smooth_idf=True, stop_words=None, strip_accents=None,\n",
       "                sublinear_tf=False, token_pattern='(?u)\\\\b\\\\w\\\\w+\\\\b',\n",
       "                tokenizer=None, use_idf=True, vocabulary=None)"
      ]
     },
     "execution_count": 42,
     "metadata": {},
     "output_type": "execute_result"
    }
   ],
   "source": [
    "vectorizer.fit(df_nona[1])"
   ]
  },
  {
   "cell_type": "code",
   "execution_count": 43,
   "metadata": {},
   "outputs": [],
   "source": [
    "train_x_tfidf = vectorizer.transform(train_x)\n",
    "test_x_tfidf = vectorizer.transform(test_x)"
   ]
  },
  {
   "cell_type": "code",
   "execution_count": 44,
   "metadata": {},
   "outputs": [
    {
     "name": "stdout",
     "output_type": "stream",
     "text": [
      "Naive Bayes Accuracy Score ->  76.93050193050193\n"
     ]
    }
   ],
   "source": [
    "# fit the training dataset on the NB classifier\n",
    "nb = naive_bayes.MultinomialNB()\n",
    "nb.fit(train_x_tfidf, train_y)\n",
    "\n",
    "# predict the labels on validation dataset\n",
    "predictions_nb = nb.predict(test_x_tfidf)\n",
    "\n",
    "# Use accuracy_score function to get the accuracy\n",
    "print(\"Naive Bayes Accuracy Score -> \",accuracy_score(predictions_nb, test_y)*100)"
   ]
  },
  {
   "cell_type": "code",
   "execution_count": 45,
   "metadata": {},
   "outputs": [
    {
     "data": {
      "text/plain": [
       "(49727, 10000)"
      ]
     },
     "execution_count": 45,
     "metadata": {},
     "output_type": "execute_result"
    }
   ],
   "source": [
    "train_x_tfidf.shape"
   ]
  },
  {
   "cell_type": "code",
   "execution_count": 46,
   "metadata": {},
   "outputs": [],
   "source": [
    "from sklearn.decomposition import TruncatedSVD\n",
    "from sklearn.pipeline import make_pipeline\n",
    "from sklearn.preprocessing import Normalizer\n",
    "from sklearn.neighbors import KNeighborsClassifier"
   ]
  },
  {
   "cell_type": "code",
   "execution_count": 47,
   "metadata": {},
   "outputs": [
    {
     "name": "stdout",
     "output_type": "stream",
     "text": [
      "  Explained variance of the SVD step: 33%\n"
     ]
    }
   ],
   "source": [
    "svd = TruncatedSVD(100)\n",
    "lsa = make_pipeline(svd, Normalizer(copy=False))\n",
    "\n",
    "# Run SVD on the training data, then project the training data.\n",
    "train_x_lsa = lsa.fit_transform(train_x_tfidf)\n",
    "\n",
    "explained_variance = svd.explained_variance_ratio_.sum()\n",
    "print(\"  Explained variance of the SVD step: {}%\".format(int(explained_variance * 100)))\n",
    "\n",
    "\n",
    "test_x_lsa = lsa.transform(test_x_tfidf)\n"
   ]
  },
  {
   "cell_type": "code",
   "execution_count": 48,
   "metadata": {},
   "outputs": [
    {
     "data": {
      "text/plain": [
       "(12432, 100)"
      ]
     },
     "execution_count": 48,
     "metadata": {},
     "output_type": "execute_result"
    }
   ],
   "source": [
    "test_x_lsa.shape"
   ]
  },
  {
   "cell_type": "code",
   "execution_count": 49,
   "metadata": {},
   "outputs": [],
   "source": [
    "num_cats = len(encoder.classes_)"
   ]
  },
  {
   "cell_type": "code",
   "execution_count": 50,
   "metadata": {},
   "outputs": [],
   "source": [
    "\n",
    "# Build a k-NN classifier. Use k = 5 (majority wins), the cosine distance, \n",
    "# and brute-force calculation of distances.\n",
    "knn_lsa = KNeighborsClassifier(n_neighbors=num_cats, algorithm='brute', metric='cosine')\n",
    "knn_lsa.fit(train_x_lsa, enc_train_y)\n",
    "\n",
    "# Classify the test vectors.\n",
    "p = knn_lsa.predict(test_x_lsa)\n"
   ]
  },
  {
   "cell_type": "code",
   "execution_count": 51,
   "metadata": {},
   "outputs": [
    {
     "data": {
      "text/plain": [
       "(12432, 100)"
      ]
     },
     "execution_count": 51,
     "metadata": {},
     "output_type": "execute_result"
    }
   ],
   "source": [
    "test_x_lsa.shape"
   ]
  },
  {
   "cell_type": "code",
   "execution_count": 56,
   "metadata": {},
   "outputs": [
    {
     "data": {
      "text/plain": [
       "array([ 0.338162  ,  0.01314866,  0.00657916,  0.00845533, -0.03558421,\n",
       "        0.00496306,  0.02175069, -0.04854918, -0.00766451,  0.1440794 ,\n",
       "       -0.1488193 , -0.1528761 , -0.00092165, -0.13362993, -0.04150871,\n",
       "       -0.08415931,  0.10292685,  0.01370514, -0.03994208,  0.19969303,\n",
       "       -0.11017491, -0.04234247, -0.12751588,  0.1102824 , -0.16774543,\n",
       "        0.01766587, -0.04184169,  0.11893222,  0.07276195, -0.0694381 ,\n",
       "       -0.05574041,  0.12368079, -0.00338518, -0.23611467,  0.14036782,\n",
       "        0.23500654, -0.05980039,  0.02283477, -0.08262084, -0.06742469,\n",
       "        0.06737776,  0.00038793,  0.16663299,  0.09301614, -0.14166837,\n",
       "        0.11657396,  0.01659266, -0.04062284,  0.11056086,  0.13555945,\n",
       "        0.1266086 ,  0.09759595, -0.00326488,  0.05711053,  0.00190588,\n",
       "        0.0702197 , -0.02811547, -0.00537829, -0.15063186, -0.10458222,\n",
       "       -0.07492953,  0.00195769, -0.1041861 , -0.14150479,  0.05963781,\n",
       "       -0.01074107, -0.00272605, -0.12217646, -0.10239045, -0.09802021,\n",
       "        0.09760431, -0.02978324,  0.02404589, -0.08383554,  0.06096905,\n",
       "       -0.08651225,  0.04752398,  0.02109482,  0.02308256, -0.01221818,\n",
       "       -0.02804472,  0.0228102 ,  0.03005573,  0.28747232, -0.02591004,\n",
       "        0.00287078,  0.16365262,  0.05675065,  0.03595046, -0.02926834,\n",
       "        0.02359348, -0.16389226,  0.05988828, -0.14321626, -0.00833212,\n",
       "        0.02578529, -0.0544412 , -0.09239896, -0.08330879, -0.0554468 ])"
      ]
     },
     "execution_count": 56,
     "metadata": {},
     "output_type": "execute_result"
    }
   ],
   "source": [
    "test_x_lsa[0]"
   ]
  },
  {
   "cell_type": "code",
   "execution_count": 54,
   "metadata": {},
   "outputs": [
    {
     "data": {
      "text/plain": [
       "12432"
      ]
     },
     "execution_count": 54,
     "metadata": {},
     "output_type": "execute_result"
    }
   ],
   "source": [
    "len(p)"
   ]
  },
  {
   "cell_type": "code",
   "execution_count": 57,
   "metadata": {},
   "outputs": [
    {
     "name": "stdout",
     "output_type": "stream",
     "text": [
      "  (10273 / 12432) correct - 82.63%\n"
     ]
    }
   ],
   "source": [
    "# Measure accuracy\n",
    "numRight = 0;\n",
    "for i in range(0,len(p)):\n",
    "    if p[i] == enc_test_y[i]:\n",
    "        numRight += 1\n",
    "\n",
    "print(\"  (%d / %d) correct - %.2f%%\" % (numRight, len(enc_test_y), float(numRight) / float(len(enc_test_y)) * 100.0))\n"
   ]
  },
  {
   "cell_type": "code",
   "execution_count": 58,
   "metadata": {},
   "outputs": [
    {
     "name": "stdout",
     "output_type": "stream",
     "text": [
      "10273\n"
     ]
    }
   ],
   "source": [
    "print(numRight)"
   ]
  },
  {
   "cell_type": "code",
   "execution_count": 59,
   "metadata": {},
   "outputs": [
    {
     "data": {
      "text/plain": [
       "<function _pickle.dump(obj, file, protocol=None, *, fix_imports=True)>"
      ]
     },
     "execution_count": 59,
     "metadata": {},
     "output_type": "execute_result"
    }
   ],
   "source": [
    "pickle.dump"
   ]
  },
  {
   "cell_type": "code",
   "execution_count": 61,
   "metadata": {},
   "outputs": [],
   "source": [
    "# Now train the classifier on the entire set\n",
    "df_nona.head()\n",
    "full_train_x = df_nona[1]\n",
    "full_train_y = df_nona[0]"
   ]
  },
  {
   "cell_type": "code",
   "execution_count": 128,
   "metadata": {},
   "outputs": [],
   "source": [
    "encoder = LabelEncoder()\n",
    "full_enc_y = encoder.fit_transform(full_train_y)"
   ]
  },
  {
   "cell_type": "code",
   "execution_count": 130,
   "metadata": {},
   "outputs": [
    {
     "data": {
      "text/plain": [
       "0    DELETION OF INTEREST\n",
       "1          RETURNED CHECK\n",
       "2                    BILL\n",
       "3                    BILL\n",
       "4                    BILL\n",
       "Name: 0, dtype: object"
      ]
     },
     "execution_count": 130,
     "metadata": {},
     "output_type": "execute_result"
    }
   ],
   "source": [
    "full_train_y.head()"
   ]
  },
  {
   "cell_type": "code",
   "execution_count": 131,
   "metadata": {},
   "outputs": [
    {
     "data": {
      "text/plain": [
       "array([ 7, 13,  1, ...,  1,  4,  4])"
      ]
     },
     "execution_count": 131,
     "metadata": {},
     "output_type": "execute_result"
    }
   ],
   "source": [
    "full_enc_y"
   ]
  },
  {
   "cell_type": "code",
   "execution_count": 133,
   "metadata": {},
   "outputs": [
    {
     "data": {
      "text/plain": [
       "array(['DELETION OF INTEREST', 'RETURNED CHECK', 'BILL', 'DECLARATION',\n",
       "       'DECLARATION'], dtype=object)"
      ]
     },
     "execution_count": 133,
     "metadata": {},
     "output_type": "execute_result"
    }
   ],
   "source": [
    "encoder.inverse_transform([7, 13, 1, 6, 6])"
   ]
  },
  {
   "cell_type": "code",
   "execution_count": 63,
   "metadata": {},
   "outputs": [
    {
     "data": {
      "text/plain": [
       "TfidfVectorizer(analyzer='word', binary=False, decode_error='strict',\n",
       "                dtype=<class 'numpy.float64'>, encoding='utf-8',\n",
       "                input='content', lowercase=True, max_df=0.5, max_features=10000,\n",
       "                min_df=2, ngram_range=(1, 3), norm='l2', preprocessor=None,\n",
       "                smooth_idf=True, stop_words=None, strip_accents=None,\n",
       "                sublinear_tf=False, token_pattern='(?u)\\\\b\\\\w\\\\w+\\\\b',\n",
       "                tokenizer=None, use_idf=True, vocabulary=None)"
      ]
     },
     "execution_count": 63,
     "metadata": {},
     "output_type": "execute_result"
    }
   ],
   "source": [
    "vectorizer"
   ]
  },
  {
   "cell_type": "code",
   "execution_count": 64,
   "metadata": {},
   "outputs": [],
   "source": [
    "full_train_x_tfidf = vectorizer.transform(full_train_x)\n"
   ]
  },
  {
   "cell_type": "code",
   "execution_count": 65,
   "metadata": {},
   "outputs": [],
   "source": [
    "svd = TruncatedSVD(100)\n",
    "lsa = make_pipeline(svd, Normalizer(copy=False))\n",
    "\n",
    "# Run SVD on the training data, then project the training data.\n",
    "full_train_x_lsa = lsa.fit_transform(full_train_x_tfidf)"
   ]
  },
  {
   "cell_type": "code",
   "execution_count": 71,
   "metadata": {},
   "outputs": [
    {
     "data": {
      "text/plain": [
       "(12432, 100)"
      ]
     },
     "execution_count": 71,
     "metadata": {},
     "output_type": "execute_result"
    }
   ],
   "source": [
    "# Might need to transform later\n",
    "#test_x_lsa = lsa.transform(test_x_tfidf)\n",
    "\n",
    "# Classify the test vectors.\n",
    "#p = knn_lsa.predict(test_x_lsa)\n",
    "\n",
    "test_x_lsa.shape"
   ]
  },
  {
   "cell_type": "code",
   "execution_count": 67,
   "metadata": {},
   "outputs": [
    {
     "data": {
      "text/plain": [
       "KNeighborsClassifier(algorithm='brute', leaf_size=30, metric='cosine',\n",
       "                     metric_params=None, n_jobs=None, n_neighbors=14, p=2,\n",
       "                     weights='uniform')"
      ]
     },
     "execution_count": 67,
     "metadata": {},
     "output_type": "execute_result"
    }
   ],
   "source": [
    "# Build a k-NN classifier. Use k = 5 (majority wins), the cosine distance, \n",
    "# and brute-force calculation of distances.\n",
    "knn_lsa = KNeighborsClassifier(n_neighbors=num_cats, algorithm='brute', metric='cosine')\n",
    "knn_lsa.fit(full_train_x_lsa, full_enc_y)\n",
    "\n"
   ]
  },
  {
   "cell_type": "code",
   "execution_count": 83,
   "metadata": {},
   "outputs": [],
   "source": [
    "# Get a random row\n",
    "test_label = df_nona.loc[456,:][0]\n",
    "test_words = df_nona.loc[456,:][1]\n",
    "#test_label, test_words\n",
    "predict_x = pd.Series([test_words])\n",
    "predict_x_tfidf = vectorizer.transform(predict_x)\n",
    "predict_x_lsa = lsa.transform(predict_x_tfidf)"
   ]
  },
  {
   "cell_type": "code",
   "execution_count": 134,
   "metadata": {},
   "outputs": [
    {
     "data": {
      "text/plain": [
       "'CANCELLATION NOTICE'"
      ]
     },
     "execution_count": 134,
     "metadata": {},
     "output_type": "execute_result"
    }
   ],
   "source": [
    "test_label"
   ]
  },
  {
   "cell_type": "code",
   "execution_count": 85,
   "metadata": {},
   "outputs": [],
   "source": [
    "p = knn_lsa.predict(predict_x_lsa)"
   ]
  },
  {
   "cell_type": "code",
   "execution_count": 143,
   "metadata": {},
   "outputs": [
    {
     "data": {
      "text/plain": [
       "array(['APPLICATION'], dtype=object)"
      ]
     },
     "execution_count": 143,
     "metadata": {},
     "output_type": "execute_result"
    }
   ],
   "source": [
    "encoder.inverse_transform([0])"
   ]
  },
  {
   "cell_type": "code",
   "execution_count": 141,
   "metadata": {},
   "outputs": [
    {
     "data": {
      "text/plain": [
       "array(['APPLICATION', 'BILL', 'BILL BINDER', 'BINDER',\n",
       "       'CANCELLATION NOTICE', 'CHANGE ENDORSEMENT', 'DECLARATION',\n",
       "       'DELETION OF INTEREST', 'EXPIRATION NOTICE',\n",
       "       'INTENT TO CANCEL NOTICE', 'NON-RENEWAL NOTICE', 'POLICY CHANGE',\n",
       "       'REINSTATEMENT NOTICE', 'RETURNED CHECK'], dtype=object)"
      ]
     },
     "execution_count": 141,
     "metadata": {},
     "output_type": "execute_result"
    }
   ],
   "source": [
    "encoder.classes_"
   ]
  },
  {
   "cell_type": "code",
   "execution_count": 139,
   "metadata": {},
   "outputs": [
    {
     "name": "stdout",
     "output_type": "stream",
     "text": [
      "400\n",
      "['BINDER'] BINDER\n",
      "401\n",
      "['DELETION OF INTEREST'] CANCELLATION NOTICE\n",
      "402\n",
      "['BILL'] BILL\n",
      "403\n",
      "['BILL'] BILL\n",
      "404\n",
      "['BILL'] POLICY CHANGE\n",
      "405\n",
      "['BINDER'] BINDER\n",
      "406\n",
      "['POLICY CHANGE'] REINSTATEMENT NOTICE\n",
      "407\n",
      "['CANCELLATION NOTICE'] CANCELLATION NOTICE\n",
      "408\n",
      "['CANCELLATION NOTICE'] CANCELLATION NOTICE\n",
      "409\n",
      "['BILL'] BILL\n",
      "410\n",
      "['BILL'] BILL\n",
      "411\n",
      "['CANCELLATION NOTICE'] CANCELLATION NOTICE\n",
      "412\n",
      "['BILL'] BILL\n",
      "413\n",
      "['BILL'] BILL\n",
      "414\n",
      "['DELETION OF INTEREST'] CANCELLATION NOTICE\n",
      "415\n",
      "['BILL'] BILL\n",
      "416\n",
      "['BILL'] BILL\n",
      "417\n",
      "['REINSTATEMENT NOTICE'] REINSTATEMENT NOTICE\n",
      "418\n",
      "['BILL'] BILL\n",
      "419\n",
      "['RETURNED CHECK'] CANCELLATION NOTICE\n"
     ]
    }
   ],
   "source": [
    "for i in range(400, 420):\n",
    "    print(i)\n",
    "\n",
    "    # Get a random row\n",
    "    test_label = df_nona.loc[i,:][0]\n",
    "    test_words = df_nona.loc[i,:][1]\n",
    "    #test_label, test_words\n",
    "    predict_x = pd.Series([test_words])\n",
    "    predict_x_tfidf = vectorizer.transform(predict_x)\n",
    "    predict_x_lsa = lsa.transform(predict_x_tfidf)\n",
    "\n",
    "    p = knn_lsa.predict(predict_x_lsa)\n",
    "    print(encoder.inverse_transform(p), test_label)"
   ]
  },
  {
   "cell_type": "code",
   "execution_count": 144,
   "metadata": {},
   "outputs": [],
   "source": [
    "# Pickling time\n",
    "pickle.dump(encoder, open('encoder.pkl', 'wb'))\n",
    "pickle.dump(vectorizer, open('vectorizer.pkl', 'wb'))\n",
    "pickle.dump(lsa, open('lsa.pkl', 'wb'))\n",
    "pickle.dump(knn_lsa, open('knn_lsa.pkl', 'wb'))\n"
   ]
  },
  {
   "cell_type": "code",
   "execution_count": 146,
   "metadata": {},
   "outputs": [
    {
     "data": {
      "text/plain": [
       "'918d14133622 8558ed4a226a 586242498a88 f0666bdbc8a5 9d83e581af4b 714fd033a722 1d0ee75170f9 b73e657498f2 1d4249bb404a 72709e886f7e fbe7c05e32d5 fe64d3cdfe5b b7ab56536ec4 cbfb3eb99bea 6d10c76d455a 7a9da1fc6d99 b1bac4b400e2 957b5cf4e65e ff714b9fa7fd 04503bc22789 2ea49cf89745 ce1f034abb5d 25c57acdf805 9bc96abb24e5 878460b4304e 4e5019f629a9 f7bb594ff117 20a84e403407 a62cd2076061 ecee69844b4e 133d46f7ed38 b9699ce57810 5d7641b096f0 586242498a88 5d7641b096f0 ecee69844b4e 6b1c8f75a7e2 0302af775b89 ce1f034abb5d 25c57acdf805 67f9c02008c6 6ce6cc5a3203 93790ade6682 61b7e0f00ffe 4357c81e10c1 a31962fbd5f3 2ea49cf89745 75440bb763a2 036087ac04f9 b136f6349cf3 d0a6ba7c50bf d85aeb8537e1 9cdf4a63deb0 b274cd8dd187 4e5019f629a9 2c624417f3e9 17c11ac4749f eb0d1ab7aefb e8194541d049 286937d51e36 133d46f7ed38 cbfb3eb99bea 41bf90201c72 bbf5683af9a7 223e7af4a080 7a9da1fc6d99 b9699ce57810 7e07ecc160fd 0a73937a5263 cafaf222091d 769e648b85f2 28b12e45914e 6b5158066b67 382618e9d034 fe64d3cdfe5b b02eb907dd1a 4d28878de1db b7ab56536ec4 586242498a88 9d83e581af4b 3ca3606d0b69 acaf107da8bc f0666bdbc8a5 f81146092cfc 02cf5092c064 586242498a88 6ce6cc5a3203 0a73937a5263 9bc65adc033c ee086b7b25a3 586242498a88 e943e5e5b779 448cca02dae6 e4dad7cb07b6 1ab34730c1e0 30ca33997a38 f8b0c07e306c cafaf222091d dc987be61f66 36e7aa72ffe1 6ef2ade170d9 d38820625542 382618e9d034 9374c105ef84 20a84e403407 317714aee69a a62cd2076061 0a73937a5263 97b6014f9e50 f7bb594ff117 4e5019f629a9 f8b0c07e306c 6eaad2528880 9d83e581af4b fbb1a70d2795 894af811cc5b e27acd17313e cf6e30467290 133d46f7ed38 6d1fb90988cf 23344d9339f0 46a0c35e916c 6b343f522f78 30ca33997a38 eca16ee06b98 5f63e56d4b7a 8db54a4cb57b d4bec079d88a 4e5019f629a9 25c57acdf805 4eb37245db2f 3012dd989e4f 133d46f7ed38 48e3af069d42 8f75273e5510 de9738ee8b24 54709b24b45f 299d73abab25 b240b1474e50 1169f8aa8528 e27acd17313e eca16ee06b98 6e86c10fc88e 8f67fb7907c9 ed5d3a65ee2d 30ca33997a38 fee60001e67a e79316ac9e91 54709b24b45f f7ae6f8257da c516cf70f339 9d83e581af4b 133d46f7ed38 42e393bc7d8e 75199e110c91 6b343f522f78 cede998708f7 f898dba78476 ce1f034abb5d d24ee96e26fa f7ae6f8257da 50798a03ad62 1ab34730c1e0 ed5d3a65ee2d 25c57acdf805 73801426ea65 2ca392db71fd 11d62d3598ce 1b3e5dc39eb9 365a9390d225 288ccf089872 572b3238a2c4 e943e5e5b779 448cca02dae6 da2e1b058e4b b8a5ca36d2e2 ff714b9fa7fd 2ea49cf89745 f7ae6f8257da ff714b9fa7fd b2011443d94d 878460b4304e 15cb0ad212f0 56c2c356d772 dec88250479b 000ec8768139 1b3e5dc39eb9 9ccf259ca087 586242498a88 461edd1ddaa6 1d4249bb404a 586242498a88 54709b24b45f eb51798a89e1 60fb2adbbb87 b8a5ca36d2e2 ff714b9fa7fd 2ea49cf89745 f0666bdbc8a5 fc96b835cfc3 133d46f7ed38 878460b4304e 1d4249bb404a 93a5aefea103 5ee06767bc0f b9699ce57810 2ca392db71fd b9699ce57810 a6a1fd3bc1bb df03d288b8b6 ecee69844b4e cd50f04925dd e11a0de517a6 586242498a88 5037561ecd63 586242498a88 1ab34730c1e0 e943e5e5b779 448cca02dae6 d38820625542 54709b24b45f b73e657498f2 167018123c55 d9fc58babbe1 e48a761e8248 86993aa28b61 66c5acf0b655 bcdd3940ccfc bcdd3940ccfc e4dad7cb07b6 98d0d51b397c e48a761e8248 c0d455ef7403 ca5b23de2dd1 56c2c356d772 da9ad7407226 d38820625542 894af811cc5b 6c14785745cb e943e5e5b779 7cd2e94152fb 96d738393f7e 179dce4734b4 8cbab2d81d91 918d14133622 b4d271e03820 8190a4945d7e 46a0c35e916c e943e5e5b779 7309ee3e7545 586242498a88 e27acd17313e e7e059c82399 30ca33997a38 8509b3818454 98d0d51b397c 1ab34730c1e0 f485c480ec19 ac4b4b0920b6 9a1d3ab82b96 adbc913c7024 066a2f7f16c8 e7e059c82399 4eb37245db2f 890c458776f2 4c11a71c788b 6b304aabdcee e43c4b6f2c61 cfb58745e13c 5e47c6e79c1c 90e758ce84ce df330922aae2 b4d271e03820 fea862065b74 b80facfeaff7 dee46d35626e 8db54a4cb57b e0a718aaedd9 586242498a88 30ca33997a38 7cd2e94152fb 586242498a88 3e84d44158be b9699ce57810 6b343f522f78 ee086b7b25a3 41bf90201c72 bbf5683af9a7 a291e077a0a6 774445039259 54709b24b45f b4fcf37f996c 0a73937a5263 93e786b92f57 432423689f19 b9699ce57810 d38820625542 019a80c31e1b bbf5683af9a7 9997460cf372 0828d0584141 ccfc7efc0832 da61efdd2b77 f07761418345 d582f8281ac3 d38820625542 5d7641b096f0 ecee69844b4e 10e45001c2f2 e943e5e5b779 448cca02dae6 b9699ce57810 7309ee3e7545 6b343f522f78 2ca392db71fd ce1f034abb5d 1ab34730c1e0 cd50f04925dd 54709b24b45f dc17032b3469 b9699ce57810 5d7641b096f0 0990b2a5d621 e4dad7cb07b6 586242498a88 befbf6d74a98 133d46f7ed38 9d83e581af4b 573cf83717f5 45a60fde9bb0 df03d288b8b6 8fc932e0816b 586242498a88 7d9e333a86da f7bb594ff117 f07761418345 de078996c1a5 8c4c99dc5cc9 aff49ae41c0a 4889a628535c 21e314d3afcc f95d0bea231b 21e314d3afcc f1a45cc91e7a 21e314d3afcc f95d0bea231b 21e314d3afcc a13dd6e85742 21e314d3afcc 6851ca4ee459 21e314d3afcc 6ce6cc5a3203 f95d0bea231b 21e314d3afcc f1a45cc91e7a 21e314d3afcc f95d0bea231b 21e314d3afcc 67c2ec4fa343 21e314d3afcc 8f67fb7907c9 d4bec079d88a 8f67fb7907c9 d4bec079d88a f7ae6f8257da 6365c4563bd1 422068f04236 1f72fb803bbf d267a0013db7 25c57acdf805 dec250bd255f fb2cd24a447a 6a7c34dca8a6 f7ae6f8257da ec56ff31bb7a 453a85e45fb2 152937e52656 2c624417f3e9 de9738ee8b24 6b343f522f78 48d657cd9861 b73e657498f2 32d3e265c75f 25c57acdf805 4eb37245db2f 921994922e2e e6d2687290f1 a20e78c41cf9 11d62d3598ce 586242498a88 133d46f7ed38 06e7c4534cb7 54709b24b45f e60a2a86cca8 e70d351c39fb f7bb594ff117 ec56ff31bb7a cc429363fb23 152937e52656 29b171405fb5 93e8061218b2 de9738ee8b24 036087ac04f9 b136f6349cf3 abe7d2dd7c9b da9ad7407226 d38820625542 7cd2e94152fb 179dce4734b4 036087ac04f9 b136f6349cf3 3d877a3bc4f0 c140b0846514 8754554be158 16d2dfee02f2 d2fed0e65ee8 66eb3ab508a0 ab75f7e7e36a e943e5e5b779 6d25574664d2 6bc963b8a2b5 e8d2105b441f 92189d4b61f0 4e1c6ea5d356 c4b9b465156f 6dcc75eaf823 0ad17934ee05 1b6d0614f2c7 041a934b1778 d572dc50fdd4 133d46f7ed38 4eb37245db2f b49df1ffd6ea 133d46f7ed38 f6c5c438a86b 7eb23b5b9603 b814d9d78802 133d46f7ed38 c516cf70f339 ce1f034abb5d e49f2baa2af6 c33578d25a0d 0120748a63d7 570c70267347 b085c6aa2be1 fe081ae57a8b 7d9e333a86da b208ae1e8232 172df7bf8eeb 565812817b84 0562c756a2f2 36e7aa72ffe1 1b6d0614f2c7 b9699ce57810 77ef3ad8021a fe3fe35491b4 1015893e384a 5e99d31d8fa4 6bf9c0cb01b4 7bf4f79c3fd9 c337a85b8ef9 b208ae1e8232 6dab0cc915bb 5d7641b096f0 c66d804cb925 c5c29cd1abc0 1015893e384a c66d804cb925 eca16ee06b98 b9699ce57810 93790ade6682 61b7e0f00ffe 4357c81e10c1 a31962fbd5f3 75440bb763a2 036087ac04f9 b136f6349cf3 d0a6ba7c50bf 0d83c01392c3 9cdf4a63deb0 b274cd8dd187 2fc22e589b5b c8a9ba4801a6 f0bce85c6eda 4d9284df2a3f 9cc55c681148 f8931fcd9bd6 61d55a85626a abe7d2dd7c9b f6c5c438a86b 163c11b9b752 172df7bf8eeb 565812817b84 c33578d25a0d cf621ed92a6e 87b8193a0183 25c57acdf805 6101ed18e42f 23344d9339f0 9374c105ef84 133d46f7ed38 29b171405fb5 0c4ce226d9fe 95f688c3a653 133d46f7ed38 c07549d7c0ba e943e5e5b779 f7bb594ff117 6d25574664d2 6bc963b8a2b5 b73e657498f2 a87473e878c1 e8d2105b441f b7ab56536ec4 d5f4611022c1 b9699ce57810 5d7641b096f0 eeb86a6a04e4 312a0e63bf50 ecee69844b4e ac624879ac84 6b1c8f75a7e2 6bc122aa4b06 21e314d3afcc 6a01047db3ab ce1f034abb5d b78532317677 f2b0e028fe2c b814d9d78802 cf4fc632eed2 422068f04236 f64cbd4354c6 4889a628535c 8d21095e8690 ab4aae26e0ad f7ae6f8257da 6bf9c0cb01b4 7bf4f79c3fd9 c337a85b8ef9 b7a0f56f6ce8 d572dc50fdd4 0e60c8ecc79d e8faf9f3abee 9374c105ef84 586242498a88 d38820625542 8190a4945d7e f95d0bea231b 9374c105ef84 4ffb12504ac6 f95d0bea231b c8f5ad40a683 eeb86a6a04e4 e1805dc5b2b0 59c340e874ef 133d46f7ed38 b408104b646a e7f01545b9b4 77af4ed951a7 e27acd17313e 497819476d37 47404e8851af 5ff4125e9d7b 9438d89a58ab 094453b4e4ae 96571e147c82 f6c5c438a86b 163c11b9b752 25c57acdf805 c5c29cd1abc0 172df7bf8eeb 59c340e874ef 565812817b84 c66d804cb925 c33578d25a0d 8c4c99dc5cc9 6bf9c0cb01b4 7bf4f79c3fd9 c337a85b8ef9 cf621ed92a6e b9699ce57810 aff49ae41c0a b814d9d78802 cefcd9a7b967 c4b9b465156f 92189d4b61f0 d572dc50fdd4 b73e657498f2 4e1c6ea5d356 55d19d2face3 586242498a88 bf7e4b5b6438 5948001254b3 fe8d9fb0bfcd e943e5e5b779 346e330c69b7 f95d0bea231b 5c02c2aaa67b 4ce4bfb42e22 b208ae1e8232 b814d9d78802 536940617c06 48d657cd9861 cc429363fb23 651ac278e36f 6b304aabdcee 59c340e874ef 6177c6399ded 8db69e29b4cf fe3fe35491b4 c429fe44be0b 76957326a333 1df8f543ae71 afb1e3806fc1 ec56ff31bb7a d89420863cf7 152937e52656 f95d0bea231b de9738ee8b24 fb2cd24a447a de9738ee8b24 c377a564ec5d 299d73abab25 b887e95e62a3 6e86c10fc88e 612cc551a793 ec4c1a048e9e a20e78c41cf9 1bc9af75e7f4 f7ae6f8257da b887e95e62a3 b814d9d78802 ec56ff31bb7a 152937e52656 48d657cd9861 de9738ee8b24 1015893e384a 586242498a88 a3b334c6eefd f95d0bea231b 23344d9339f0 9374c105ef84'"
      ]
     },
     "execution_count": 146,
     "metadata": {},
     "output_type": "execute_result"
    }
   ],
   "source": [
    "df_nona.loc[1009,:][1]"
   ]
  },
  {
   "cell_type": "code",
   "execution_count": 147,
   "metadata": {},
   "outputs": [
    {
     "data": {
      "text/plain": [
       "'BILL'"
      ]
     },
     "execution_count": 147,
     "metadata": {},
     "output_type": "execute_result"
    }
   ],
   "source": [
    "df_nona.loc[1009,:][0]"
   ]
  },
  {
   "cell_type": "code",
   "execution_count": null,
   "metadata": {},
   "outputs": [],
   "source": []
  }
 ],
 "metadata": {
  "kernelspec": {
   "display_name": "Python 3",
   "language": "python",
   "name": "python3"
  },
  "language_info": {
   "codemirror_mode": {
    "name": "ipython",
    "version": 3
   },
   "file_extension": ".py",
   "mimetype": "text/x-python",
   "name": "python",
   "nbconvert_exporter": "python",
   "pygments_lexer": "ipython3",
   "version": "3.6.5"
  }
 },
 "nbformat": 4,
 "nbformat_minor": 2
}
